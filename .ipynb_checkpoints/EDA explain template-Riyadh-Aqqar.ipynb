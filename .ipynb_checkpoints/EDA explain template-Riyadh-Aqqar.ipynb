{
 "cells": [
  {
   "cell_type": "code",
   "execution_count": 65,
   "id": "e69c4ba1-85f3-4a02-ae37-c64347a01803",
   "metadata": {},
   "outputs": [],
   "source": [
    "#Import all relevant libraries\n",
    "import numpy as np\n",
    "import pandas as pd\n",
    "import matplotlib.pyplot as plt\n",
    "import seaborn as sns\n",
    "from scipy.stats import zscore\n",
    "import dtale\n",
    "\n",
    "## This statement allows the visuals to render within your Jupyter Notebook.\n",
    "%matplotlib inline"
   ]
  },
  {
   "cell_type": "markdown",
   "id": "e395e8bf-b530-4720-8d0f-26811e927d6e",
   "metadata": {},
   "source": [
    "## Loading the data\n",
    "We can now load the dataset into pandas using the read_csv() function. This converts the CSV file into a Pandas dataframe."
   ]
  },
  {
   "cell_type": "code",
   "execution_count": 256,
   "id": "cf4030b0-aa7f-4bd7-8e9c-c1b7f4d202d0",
   "metadata": {},
   "outputs": [
    {
     "name": "stderr",
     "output_type": "stream",
     "text": [
      "2024-10-25 20:43:33,008 - ERROR    - Exception occurred while processing request: 'NoneType' object is not iterable\n",
      "Traceback (most recent call last):\n",
      "  File \"C:\\Users\\mmm19\\anaconda3\\lib\\site-packages\\dtale\\views.py\", line 120, in _handle_exceptions\n",
      "    return func(*args, **kwargs)\n",
      "  File \"C:\\Users\\mmm19\\anaconda3\\lib\\site-packages\\dtale\\views.py\", line 2934, in get_data\n",
      "    curr_dtypes = [c[\"name\"] for c in global_state.get_dtypes(data_id)]\n",
      "TypeError: 'NoneType' object is not iterable\n",
      "2024-10-25 20:43:33,034 - ERROR    - Exception occurred while processing request: 'NoneType' object is not iterable\n",
      "Traceback (most recent call last):\n",
      "  File \"C:\\Users\\mmm19\\anaconda3\\lib\\site-packages\\dtale\\views.py\", line 120, in _handle_exceptions\n",
      "    return func(*args, **kwargs)\n",
      "  File \"C:\\Users\\mmm19\\anaconda3\\lib\\site-packages\\dtale\\views.py\", line 2934, in get_data\n",
      "    curr_dtypes = [c[\"name\"] for c in global_state.get_dtypes(data_id)]\n",
      "TypeError: 'NoneType' object is not iterable\n",
      "2024-10-25 20:43:33,059 - ERROR    - Exception occurred while processing request: 'NoneType' object is not iterable\n",
      "Traceback (most recent call last):\n",
      "  File \"C:\\Users\\mmm19\\anaconda3\\lib\\site-packages\\dtale\\views.py\", line 120, in _handle_exceptions\n",
      "    return func(*args, **kwargs)\n",
      "  File \"C:\\Users\\mmm19\\anaconda3\\lib\\site-packages\\dtale\\views.py\", line 2934, in get_data\n",
      "    curr_dtypes = [c[\"name\"] for c in global_state.get_dtypes(data_id)]\n",
      "TypeError: 'NoneType' object is not iterable\n",
      "2024-10-25 20:43:33,083 - ERROR    - Exception occurred while processing request: 'NoneType' object is not iterable\n",
      "Traceback (most recent call last):\n",
      "  File \"C:\\Users\\mmm19\\anaconda3\\lib\\site-packages\\dtale\\views.py\", line 120, in _handle_exceptions\n",
      "    return func(*args, **kwargs)\n",
      "  File \"C:\\Users\\mmm19\\anaconda3\\lib\\site-packages\\dtale\\views.py\", line 2934, in get_data\n",
      "    curr_dtypes = [c[\"name\"] for c in global_state.get_dtypes(data_id)]\n",
      "TypeError: 'NoneType' object is not iterable\n",
      "2024-10-25 20:43:33,124 - ERROR    - Exception occurred while processing request: 'NoneType' object is not iterable\n",
      "Traceback (most recent call last):\n",
      "  File \"C:\\Users\\mmm19\\anaconda3\\lib\\site-packages\\dtale\\views.py\", line 120, in _handle_exceptions\n",
      "    return func(*args, **kwargs)\n",
      "  File \"C:\\Users\\mmm19\\anaconda3\\lib\\site-packages\\dtale\\views.py\", line 2934, in get_data\n",
      "    curr_dtypes = [c[\"name\"] for c in global_state.get_dtypes(data_id)]\n",
      "TypeError: 'NoneType' object is not iterable\n",
      "2024-10-25 20:43:33,130 - ERROR    - Exception occurred while processing request: 'NoneType' object is not iterable\n",
      "Traceback (most recent call last):\n",
      "  File \"C:\\Users\\mmm19\\anaconda3\\lib\\site-packages\\dtale\\views.py\", line 120, in _handle_exceptions\n",
      "    return func(*args, **kwargs)\n",
      "  File \"C:\\Users\\mmm19\\anaconda3\\lib\\site-packages\\dtale\\views.py\", line 2934, in get_data\n",
      "    curr_dtypes = [c[\"name\"] for c in global_state.get_dtypes(data_id)]\n",
      "TypeError: 'NoneType' object is not iterable\n",
      "2024-10-25 20:43:33,164 - ERROR    - Exception occurred while processing request: 'NoneType' object is not iterable\n",
      "Traceback (most recent call last):\n",
      "  File \"C:\\Users\\mmm19\\anaconda3\\lib\\site-packages\\dtale\\views.py\", line 120, in _handle_exceptions\n",
      "    return func(*args, **kwargs)\n",
      "  File \"C:\\Users\\mmm19\\anaconda3\\lib\\site-packages\\dtale\\views.py\", line 2934, in get_data\n",
      "    curr_dtypes = [c[\"name\"] for c in global_state.get_dtypes(data_id)]\n",
      "TypeError: 'NoneType' object is not iterable\n",
      "2024-10-25 20:43:33,166 - ERROR    - Exception occurred while processing request: 'NoneType' object is not iterable\n",
      "Traceback (most recent call last):\n",
      "  File \"C:\\Users\\mmm19\\anaconda3\\lib\\site-packages\\dtale\\views.py\", line 120, in _handle_exceptions\n",
      "    return func(*args, **kwargs)\n",
      "  File \"C:\\Users\\mmm19\\anaconda3\\lib\\site-packages\\dtale\\views.py\", line 2934, in get_data\n",
      "    curr_dtypes = [c[\"name\"] for c in global_state.get_dtypes(data_id)]\n",
      "TypeError: 'NoneType' object is not iterable\n",
      "2024-10-25 20:43:33,196 - ERROR    - Exception occurred while processing request: 'NoneType' object is not iterable\n",
      "Traceback (most recent call last):\n",
      "  File \"C:\\Users\\mmm19\\anaconda3\\lib\\site-packages\\dtale\\views.py\", line 120, in _handle_exceptions\n",
      "    return func(*args, **kwargs)\n",
      "  File \"C:\\Users\\mmm19\\anaconda3\\lib\\site-packages\\dtale\\views.py\", line 2934, in get_data\n",
      "    curr_dtypes = [c[\"name\"] for c in global_state.get_dtypes(data_id)]\n",
      "TypeError: 'NoneType' object is not iterable\n",
      "2024-10-25 20:43:33,202 - ERROR    - Exception occurred while processing request: 'NoneType' object is not iterable\n",
      "Traceback (most recent call last):\n",
      "  File \"C:\\Users\\mmm19\\anaconda3\\lib\\site-packages\\dtale\\views.py\", line 120, in _handle_exceptions\n",
      "    return func(*args, **kwargs)\n",
      "  File \"C:\\Users\\mmm19\\anaconda3\\lib\\site-packages\\dtale\\views.py\", line 2934, in get_data\n",
      "    curr_dtypes = [c[\"name\"] for c in global_state.get_dtypes(data_id)]\n",
      "TypeError: 'NoneType' object is not iterable\n",
      "2024-10-25 20:43:33,225 - ERROR    - Exception occurred while processing request: 'NoneType' object is not iterable\n",
      "Traceback (most recent call last):\n",
      "  File \"C:\\Users\\mmm19\\anaconda3\\lib\\site-packages\\dtale\\views.py\", line 120, in _handle_exceptions\n",
      "    return func(*args, **kwargs)\n",
      "  File \"C:\\Users\\mmm19\\anaconda3\\lib\\site-packages\\dtale\\views.py\", line 2934, in get_data\n",
      "    curr_dtypes = [c[\"name\"] for c in global_state.get_dtypes(data_id)]\n",
      "TypeError: 'NoneType' object is not iterable\n",
      "2024-10-25 20:43:33,381 - ERROR    - Exception occurred while processing request: 'NoneType' object is not iterable\n",
      "Traceback (most recent call last):\n",
      "  File \"C:\\Users\\mmm19\\anaconda3\\lib\\site-packages\\dtale\\views.py\", line 120, in _handle_exceptions\n",
      "    return func(*args, **kwargs)\n",
      "  File \"C:\\Users\\mmm19\\anaconda3\\lib\\site-packages\\dtale\\views.py\", line 2934, in get_data\n",
      "    curr_dtypes = [c[\"name\"] for c in global_state.get_dtypes(data_id)]\n",
      "TypeError: 'NoneType' object is not iterable\n",
      "2024-10-25 20:43:33,404 - ERROR    - Exception occurred while processing request: 'NoneType' object is not iterable\n",
      "Traceback (most recent call last):\n",
      "  File \"C:\\Users\\mmm19\\anaconda3\\lib\\site-packages\\dtale\\views.py\", line 120, in _handle_exceptions\n",
      "    return func(*args, **kwargs)\n",
      "  File \"C:\\Users\\mmm19\\anaconda3\\lib\\site-packages\\dtale\\views.py\", line 2934, in get_data\n",
      "    curr_dtypes = [c[\"name\"] for c in global_state.get_dtypes(data_id)]\n",
      "TypeError: 'NoneType' object is not iterable\n",
      "2024-10-25 20:43:33,434 - ERROR    - Exception occurred while processing request: 'NoneType' object is not iterable\n",
      "Traceback (most recent call last):\n",
      "  File \"C:\\Users\\mmm19\\anaconda3\\lib\\site-packages\\dtale\\views.py\", line 120, in _handle_exceptions\n",
      "    return func(*args, **kwargs)\n",
      "  File \"C:\\Users\\mmm19\\anaconda3\\lib\\site-packages\\dtale\\views.py\", line 2934, in get_data\n",
      "    curr_dtypes = [c[\"name\"] for c in global_state.get_dtypes(data_id)]\n",
      "TypeError: 'NoneType' object is not iterable\n",
      "2024-10-25 20:43:33,436 - ERROR    - Exception occurred while processing request: 'NoneType' object is not iterable\n",
      "Traceback (most recent call last):\n",
      "  File \"C:\\Users\\mmm19\\anaconda3\\lib\\site-packages\\dtale\\views.py\", line 120, in _handle_exceptions\n",
      "    return func(*args, **kwargs)\n",
      "  File \"C:\\Users\\mmm19\\anaconda3\\lib\\site-packages\\dtale\\views.py\", line 2934, in get_data\n",
      "    curr_dtypes = [c[\"name\"] for c in global_state.get_dtypes(data_id)]\n",
      "TypeError: 'NoneType' object is not iterable\n",
      "2024-10-25 20:43:33,487 - ERROR    - Exception occurred while processing request: 'NoneType' object is not iterable\n",
      "Traceback (most recent call last):\n",
      "  File \"C:\\Users\\mmm19\\anaconda3\\lib\\site-packages\\dtale\\views.py\", line 120, in _handle_exceptions\n",
      "    return func(*args, **kwargs)\n",
      "  File \"C:\\Users\\mmm19\\anaconda3\\lib\\site-packages\\dtale\\views.py\", line 2934, in get_data\n",
      "    curr_dtypes = [c[\"name\"] for c in global_state.get_dtypes(data_id)]\n",
      "TypeError: 'NoneType' object is not iterable\n",
      "2024-10-25 20:43:33,492 - ERROR    - Exception occurred while processing request: 'NoneType' object is not iterable\n",
      "Traceback (most recent call last):\n",
      "  File \"C:\\Users\\mmm19\\anaconda3\\lib\\site-packages\\dtale\\views.py\", line 120, in _handle_exceptions\n",
      "    return func(*args, **kwargs)\n",
      "  File \"C:\\Users\\mmm19\\anaconda3\\lib\\site-packages\\dtale\\views.py\", line 2934, in get_data\n",
      "    curr_dtypes = [c[\"name\"] for c in global_state.get_dtypes(data_id)]\n",
      "TypeError: 'NoneType' object is not iterable\n"
     ]
    },
    {
     "name": "stderr",
     "output_type": "stream",
     "text": [
      "2024-10-25 20:43:33,554 - ERROR    - Exception occurred while processing request: 'NoneType' object is not iterable\n",
      "Traceback (most recent call last):\n",
      "  File \"C:\\Users\\mmm19\\anaconda3\\lib\\site-packages\\dtale\\views.py\", line 120, in _handle_exceptions\n",
      "    return func(*args, **kwargs)\n",
      "  File \"C:\\Users\\mmm19\\anaconda3\\lib\\site-packages\\dtale\\views.py\", line 2934, in get_data\n",
      "    curr_dtypes = [c[\"name\"] for c in global_state.get_dtypes(data_id)]\n",
      "TypeError: 'NoneType' object is not iterable\n",
      "2024-10-25 20:43:33,557 - ERROR    - Exception occurred while processing request: 'NoneType' object is not iterable\n",
      "Traceback (most recent call last):\n",
      "  File \"C:\\Users\\mmm19\\anaconda3\\lib\\site-packages\\dtale\\views.py\", line 120, in _handle_exceptions\n",
      "    return func(*args, **kwargs)\n",
      "  File \"C:\\Users\\mmm19\\anaconda3\\lib\\site-packages\\dtale\\views.py\", line 2934, in get_data\n",
      "    curr_dtypes = [c[\"name\"] for c in global_state.get_dtypes(data_id)]\n",
      "TypeError: 'NoneType' object is not iterable\n",
      "2024-10-25 20:43:33,634 - ERROR    - Exception occurred while processing request: 'NoneType' object is not iterable\n",
      "Traceback (most recent call last):\n",
      "  File \"C:\\Users\\mmm19\\anaconda3\\lib\\site-packages\\dtale\\views.py\", line 120, in _handle_exceptions\n",
      "    return func(*args, **kwargs)\n",
      "  File \"C:\\Users\\mmm19\\anaconda3\\lib\\site-packages\\dtale\\views.py\", line 2934, in get_data\n",
      "    curr_dtypes = [c[\"name\"] for c in global_state.get_dtypes(data_id)]\n",
      "TypeError: 'NoneType' object is not iterable\n",
      "2024-10-25 20:43:33,636 - ERROR    - Exception occurred while processing request: 'NoneType' object is not iterable\n",
      "Traceback (most recent call last):\n",
      "  File \"C:\\Users\\mmm19\\anaconda3\\lib\\site-packages\\dtale\\views.py\", line 120, in _handle_exceptions\n",
      "    return func(*args, **kwargs)\n",
      "  File \"C:\\Users\\mmm19\\anaconda3\\lib\\site-packages\\dtale\\views.py\", line 2934, in get_data\n",
      "    curr_dtypes = [c[\"name\"] for c in global_state.get_dtypes(data_id)]\n",
      "TypeError: 'NoneType' object is not iterable\n",
      "2024-10-25 20:43:34,226 - ERROR    - Exception occurred while processing request: 'NoneType' object is not iterable\n",
      "Traceback (most recent call last):\n",
      "  File \"C:\\Users\\mmm19\\anaconda3\\lib\\site-packages\\dtale\\views.py\", line 120, in _handle_exceptions\n",
      "    return func(*args, **kwargs)\n",
      "  File \"C:\\Users\\mmm19\\anaconda3\\lib\\site-packages\\dtale\\views.py\", line 2934, in get_data\n",
      "    curr_dtypes = [c[\"name\"] for c in global_state.get_dtypes(data_id)]\n",
      "TypeError: 'NoneType' object is not iterable\n",
      "2024-10-25 20:43:34,252 - ERROR    - Exception occurred while processing request: 'NoneType' object is not iterable\n",
      "Traceback (most recent call last):\n",
      "  File \"C:\\Users\\mmm19\\anaconda3\\lib\\site-packages\\dtale\\views.py\", line 120, in _handle_exceptions\n",
      "    return func(*args, **kwargs)\n",
      "  File \"C:\\Users\\mmm19\\anaconda3\\lib\\site-packages\\dtale\\views.py\", line 2934, in get_data\n",
      "    curr_dtypes = [c[\"name\"] for c in global_state.get_dtypes(data_id)]\n",
      "TypeError: 'NoneType' object is not iterable\n",
      "2024-10-25 20:43:34,253 - ERROR    - Exception occurred while processing request: 'NoneType' object is not iterable\n",
      "Traceback (most recent call last):\n",
      "  File \"C:\\Users\\mmm19\\anaconda3\\lib\\site-packages\\dtale\\views.py\", line 120, in _handle_exceptions\n",
      "    return func(*args, **kwargs)\n",
      "  File \"C:\\Users\\mmm19\\anaconda3\\lib\\site-packages\\dtale\\views.py\", line 2934, in get_data\n",
      "    curr_dtypes = [c[\"name\"] for c in global_state.get_dtypes(data_id)]\n",
      "TypeError: 'NoneType' object is not iterable\n",
      "2024-10-25 20:43:34,279 - ERROR    - Exception occurred while processing request: 'NoneType' object is not iterable\n",
      "Traceback (most recent call last):\n",
      "  File \"C:\\Users\\mmm19\\anaconda3\\lib\\site-packages\\dtale\\views.py\", line 120, in _handle_exceptions\n",
      "    return func(*args, **kwargs)\n",
      "  File \"C:\\Users\\mmm19\\anaconda3\\lib\\site-packages\\dtale\\views.py\", line 2934, in get_data\n",
      "    curr_dtypes = [c[\"name\"] for c in global_state.get_dtypes(data_id)]\n",
      "TypeError: 'NoneType' object is not iterable\n",
      "2024-10-25 20:43:34,320 - ERROR    - Exception occurred while processing request: 'NoneType' object is not iterable\n",
      "Traceback (most recent call last):\n",
      "  File \"C:\\Users\\mmm19\\anaconda3\\lib\\site-packages\\dtale\\views.py\", line 120, in _handle_exceptions\n",
      "    return func(*args, **kwargs)\n",
      "  File \"C:\\Users\\mmm19\\anaconda3\\lib\\site-packages\\dtale\\views.py\", line 2934, in get_data\n",
      "    curr_dtypes = [c[\"name\"] for c in global_state.get_dtypes(data_id)]\n",
      "TypeError: 'NoneType' object is not iterable\n",
      "2024-10-25 20:43:34,439 - ERROR    - Exception occurred while processing request: 'NoneType' object is not iterable\n",
      "Traceback (most recent call last):\n",
      "  File \"C:\\Users\\mmm19\\anaconda3\\lib\\site-packages\\dtale\\views.py\", line 120, in _handle_exceptions\n",
      "    return func(*args, **kwargs)\n",
      "  File \"C:\\Users\\mmm19\\anaconda3\\lib\\site-packages\\dtale\\views.py\", line 2934, in get_data\n",
      "    curr_dtypes = [c[\"name\"] for c in global_state.get_dtypes(data_id)]\n",
      "TypeError: 'NoneType' object is not iterable\n",
      "2024-10-25 20:43:34,473 - ERROR    - Exception occurred while processing request: 'NoneType' object is not iterable\n",
      "Traceback (most recent call last):\n",
      "  File \"C:\\Users\\mmm19\\anaconda3\\lib\\site-packages\\dtale\\views.py\", line 120, in _handle_exceptions\n",
      "    return func(*args, **kwargs)\n",
      "  File \"C:\\Users\\mmm19\\anaconda3\\lib\\site-packages\\dtale\\views.py\", line 2934, in get_data\n",
      "    curr_dtypes = [c[\"name\"] for c in global_state.get_dtypes(data_id)]\n",
      "TypeError: 'NoneType' object is not iterable\n",
      "2024-10-25 20:43:34,475 - ERROR    - Exception occurred while processing request: 'NoneType' object is not iterable\n",
      "Traceback (most recent call last):\n",
      "  File \"C:\\Users\\mmm19\\anaconda3\\lib\\site-packages\\dtale\\views.py\", line 120, in _handle_exceptions\n",
      "    return func(*args, **kwargs)\n",
      "  File \"C:\\Users\\mmm19\\anaconda3\\lib\\site-packages\\dtale\\views.py\", line 2934, in get_data\n",
      "    curr_dtypes = [c[\"name\"] for c in global_state.get_dtypes(data_id)]\n",
      "TypeError: 'NoneType' object is not iterable\n",
      "2024-10-25 20:43:34,513 - ERROR    - Exception occurred while processing request: 'NoneType' object is not iterable\n",
      "Traceback (most recent call last):\n",
      "  File \"C:\\Users\\mmm19\\anaconda3\\lib\\site-packages\\dtale\\views.py\", line 120, in _handle_exceptions\n",
      "    return func(*args, **kwargs)\n",
      "  File \"C:\\Users\\mmm19\\anaconda3\\lib\\site-packages\\dtale\\views.py\", line 2934, in get_data\n",
      "    curr_dtypes = [c[\"name\"] for c in global_state.get_dtypes(data_id)]\n",
      "TypeError: 'NoneType' object is not iterable\n",
      "2024-10-25 20:43:34,515 - ERROR    - Exception occurred while processing request: 'NoneType' object is not iterable\n",
      "Traceback (most recent call last):\n",
      "  File \"C:\\Users\\mmm19\\anaconda3\\lib\\site-packages\\dtale\\views.py\", line 120, in _handle_exceptions\n",
      "    return func(*args, **kwargs)\n",
      "  File \"C:\\Users\\mmm19\\anaconda3\\lib\\site-packages\\dtale\\views.py\", line 2934, in get_data\n",
      "    curr_dtypes = [c[\"name\"] for c in global_state.get_dtypes(data_id)]\n",
      "TypeError: 'NoneType' object is not iterable\n",
      "2024-10-25 20:43:34,551 - ERROR    - Exception occurred while processing request: 'NoneType' object is not iterable\n",
      "Traceback (most recent call last):\n",
      "  File \"C:\\Users\\mmm19\\anaconda3\\lib\\site-packages\\dtale\\views.py\", line 120, in _handle_exceptions\n",
      "    return func(*args, **kwargs)\n",
      "  File \"C:\\Users\\mmm19\\anaconda3\\lib\\site-packages\\dtale\\views.py\", line 2934, in get_data\n",
      "    curr_dtypes = [c[\"name\"] for c in global_state.get_dtypes(data_id)]\n",
      "TypeError: 'NoneType' object is not iterable\n",
      "2024-10-25 20:43:34,553 - ERROR    - Exception occurred while processing request: 'NoneType' object is not iterable\n",
      "Traceback (most recent call last):\n",
      "  File \"C:\\Users\\mmm19\\anaconda3\\lib\\site-packages\\dtale\\views.py\", line 120, in _handle_exceptions\n",
      "    return func(*args, **kwargs)\n",
      "  File \"C:\\Users\\mmm19\\anaconda3\\lib\\site-packages\\dtale\\views.py\", line 2934, in get_data\n",
      "    curr_dtypes = [c[\"name\"] for c in global_state.get_dtypes(data_id)]\n",
      "TypeError: 'NoneType' object is not iterable\n",
      "2024-10-25 20:43:34,592 - ERROR    - Exception occurred while processing request: 'NoneType' object is not iterable\n",
      "Traceback (most recent call last):\n",
      "  File \"C:\\Users\\mmm19\\anaconda3\\lib\\site-packages\\dtale\\views.py\", line 120, in _handle_exceptions\n",
      "    return func(*args, **kwargs)\n",
      "  File \"C:\\Users\\mmm19\\anaconda3\\lib\\site-packages\\dtale\\views.py\", line 2934, in get_data\n",
      "    curr_dtypes = [c[\"name\"] for c in global_state.get_dtypes(data_id)]\n",
      "TypeError: 'NoneType' object is not iterable\n"
     ]
    },
    {
     "name": "stderr",
     "output_type": "stream",
     "text": [
      "2024-10-25 20:43:34,593 - ERROR    - Exception occurred while processing request: 'NoneType' object is not iterable\n",
      "Traceback (most recent call last):\n",
      "  File \"C:\\Users\\mmm19\\anaconda3\\lib\\site-packages\\dtale\\views.py\", line 120, in _handle_exceptions\n",
      "    return func(*args, **kwargs)\n",
      "  File \"C:\\Users\\mmm19\\anaconda3\\lib\\site-packages\\dtale\\views.py\", line 2934, in get_data\n",
      "    curr_dtypes = [c[\"name\"] for c in global_state.get_dtypes(data_id)]\n",
      "TypeError: 'NoneType' object is not iterable\n",
      "2024-10-25 20:43:35,096 - ERROR    - Exception occurred while processing request: 'NoneType' object is not iterable\n",
      "Traceback (most recent call last):\n",
      "  File \"C:\\Users\\mmm19\\anaconda3\\lib\\site-packages\\dtale\\views.py\", line 120, in _handle_exceptions\n",
      "    return func(*args, **kwargs)\n",
      "  File \"C:\\Users\\mmm19\\anaconda3\\lib\\site-packages\\dtale\\views.py\", line 2934, in get_data\n",
      "    curr_dtypes = [c[\"name\"] for c in global_state.get_dtypes(data_id)]\n",
      "TypeError: 'NoneType' object is not iterable\n",
      "2024-10-25 20:43:35,126 - ERROR    - Exception occurred while processing request: 'NoneType' object is not iterable\n",
      "Traceback (most recent call last):\n",
      "  File \"C:\\Users\\mmm19\\anaconda3\\lib\\site-packages\\dtale\\views.py\", line 120, in _handle_exceptions\n",
      "    return func(*args, **kwargs)\n",
      "  File \"C:\\Users\\mmm19\\anaconda3\\lib\\site-packages\\dtale\\views.py\", line 2934, in get_data\n",
      "    curr_dtypes = [c[\"name\"] for c in global_state.get_dtypes(data_id)]\n",
      "TypeError: 'NoneType' object is not iterable\n",
      "2024-10-25 20:43:35,149 - ERROR    - Exception occurred while processing request: 'NoneType' object is not iterable\n",
      "Traceback (most recent call last):\n",
      "  File \"C:\\Users\\mmm19\\anaconda3\\lib\\site-packages\\dtale\\views.py\", line 120, in _handle_exceptions\n",
      "    return func(*args, **kwargs)\n",
      "  File \"C:\\Users\\mmm19\\anaconda3\\lib\\site-packages\\dtale\\views.py\", line 2934, in get_data\n",
      "    curr_dtypes = [c[\"name\"] for c in global_state.get_dtypes(data_id)]\n",
      "TypeError: 'NoneType' object is not iterable\n",
      "2024-10-25 20:43:35,174 - ERROR    - Exception occurred while processing request: 'NoneType' object is not iterable\n",
      "Traceback (most recent call last):\n",
      "  File \"C:\\Users\\mmm19\\anaconda3\\lib\\site-packages\\dtale\\views.py\", line 120, in _handle_exceptions\n",
      "    return func(*args, **kwargs)\n",
      "  File \"C:\\Users\\mmm19\\anaconda3\\lib\\site-packages\\dtale\\views.py\", line 2934, in get_data\n",
      "    curr_dtypes = [c[\"name\"] for c in global_state.get_dtypes(data_id)]\n",
      "TypeError: 'NoneType' object is not iterable\n",
      "2024-10-25 20:43:35,200 - ERROR    - Exception occurred while processing request: 'NoneType' object is not iterable\n",
      "Traceback (most recent call last):\n",
      "  File \"C:\\Users\\mmm19\\anaconda3\\lib\\site-packages\\dtale\\views.py\", line 120, in _handle_exceptions\n",
      "    return func(*args, **kwargs)\n",
      "  File \"C:\\Users\\mmm19\\anaconda3\\lib\\site-packages\\dtale\\views.py\", line 2934, in get_data\n",
      "    curr_dtypes = [c[\"name\"] for c in global_state.get_dtypes(data_id)]\n",
      "TypeError: 'NoneType' object is not iterable\n",
      "2024-10-25 20:43:35,228 - ERROR    - Exception occurred while processing request: 'NoneType' object is not iterable\n",
      "Traceback (most recent call last):\n",
      "  File \"C:\\Users\\mmm19\\anaconda3\\lib\\site-packages\\dtale\\views.py\", line 120, in _handle_exceptions\n",
      "    return func(*args, **kwargs)\n",
      "  File \"C:\\Users\\mmm19\\anaconda3\\lib\\site-packages\\dtale\\views.py\", line 2934, in get_data\n",
      "    curr_dtypes = [c[\"name\"] for c in global_state.get_dtypes(data_id)]\n",
      "TypeError: 'NoneType' object is not iterable\n",
      "2024-10-25 20:43:35,257 - ERROR    - Exception occurred while processing request: 'NoneType' object is not iterable\n",
      "Traceback (most recent call last):\n",
      "  File \"C:\\Users\\mmm19\\anaconda3\\lib\\site-packages\\dtale\\views.py\", line 120, in _handle_exceptions\n",
      "    return func(*args, **kwargs)\n",
      "  File \"C:\\Users\\mmm19\\anaconda3\\lib\\site-packages\\dtale\\views.py\", line 2934, in get_data\n",
      "    curr_dtypes = [c[\"name\"] for c in global_state.get_dtypes(data_id)]\n",
      "TypeError: 'NoneType' object is not iterable\n",
      "2024-10-25 20:43:35,279 - ERROR    - Exception occurred while processing request: 'NoneType' object is not iterable\n",
      "Traceback (most recent call last):\n",
      "  File \"C:\\Users\\mmm19\\anaconda3\\lib\\site-packages\\dtale\\views.py\", line 120, in _handle_exceptions\n",
      "    return func(*args, **kwargs)\n",
      "  File \"C:\\Users\\mmm19\\anaconda3\\lib\\site-packages\\dtale\\views.py\", line 2934, in get_data\n",
      "    curr_dtypes = [c[\"name\"] for c in global_state.get_dtypes(data_id)]\n",
      "TypeError: 'NoneType' object is not iterable\n",
      "2024-10-25 20:43:36,524 - ERROR    - Exception occurred while processing request: 'NoneType' object is not iterable\n",
      "Traceback (most recent call last):\n",
      "  File \"C:\\Users\\mmm19\\anaconda3\\lib\\site-packages\\dtale\\views.py\", line 120, in _handle_exceptions\n",
      "    return func(*args, **kwargs)\n",
      "  File \"C:\\Users\\mmm19\\anaconda3\\lib\\site-packages\\dtale\\views.py\", line 2934, in get_data\n",
      "    curr_dtypes = [c[\"name\"] for c in global_state.get_dtypes(data_id)]\n",
      "TypeError: 'NoneType' object is not iterable\n"
     ]
    }
   ],
   "source": [
    "#Read in the csv file and convert to a Pandas dataframe\n",
    "filename = r\"C:\\Users\\mmm19\\Desktop\\Bootcamp\\data\\Riyadh_Aqqar.xlsx\"\n",
    "sheets_dict = pd.read_excel(filename, sheet_name=None)\n",
    "df_land , df_villas, df_apart = sheets_dict.values()\n",
    "    "
   ]
  },
  {
   "cell_type": "markdown",
   "id": "ca5ed983-0f72-43eb-8168-6fafd48c562e",
   "metadata": {},
   "source": [
    "### Viewing the dataframe\n",
    "We can get a quick sense of the size of our dataset by using the shape method. This returns a tuple with the number of rows and columns in the dataset."
   ]
  },
  {
   "cell_type": "code",
   "execution_count": 87,
   "id": "9cb0e11f",
   "metadata": {
    "scrolled": true
   },
   "outputs": [
    {
     "name": "stderr",
     "output_type": "stream",
     "text": [
      "C:\\Users\\mmm19\\anaconda3\\lib\\site-packages\\dtale\\views.py:816: FutureWarning:\n",
      "\n",
      "['الغرض', 'المدينة'] did not aggregate successfully. If any error is raised this will raise in a future version of pandas. Drop these columns/ops to avoid this warning.\n",
      "\n"
     ]
    },
    {
     "data": {
      "text/html": [
       "\n",
       "        <iframe\n",
       "            width=\"100%\"\n",
       "            height=\"475\"\n",
       "            src=\"http://DESKTOP-A60UPUK:40000/dtale/iframe/6\"\n",
       "            frameborder=\"0\"\n",
       "            allowfullscreen\n",
       "            \n",
       "        ></iframe>\n",
       "        "
      ],
      "text/plain": [
       "<IPython.lib.display.IFrame at 0x219f0030f40>"
      ]
     },
     "metadata": {},
     "output_type": "display_data"
    },
    {
     "data": {
      "text/plain": []
     },
     "execution_count": 87,
     "metadata": {},
     "output_type": "execute_result"
    },
    {
     "name": "stderr",
     "output_type": "stream",
     "text": [
      "2024-10-25 15:52:06,312 - ERROR    - Exception occurred while processing request: object of type 'NoneType' has no len()\n",
      "Traceback (most recent call last):\n",
      "  File \"C:\\Users\\mmm19\\anaconda3\\lib\\site-packages\\dtale\\views.py\", line 120, in _handle_exceptions\n",
      "    return func(*args, **kwargs)\n",
      "  File \"C:\\Users\\mmm19\\anaconda3\\lib\\site-packages\\dtale\\views.py\", line 1587, in get_processes\n",
      "    [_load_process(data_id) for data_id in global_state.keys()],\n",
      "  File \"C:\\Users\\mmm19\\anaconda3\\lib\\site-packages\\dtale\\views.py\", line 1587, in <listcomp>\n",
      "    [_load_process(data_id) for data_id in global_state.keys()],\n",
      "  File \"C:\\Users\\mmm19\\anaconda3\\lib\\site-packages\\dtale\\views.py\", line 1572, in _load_process\n",
      "    rows=len(data),\n",
      "TypeError: object of type 'NoneType' has no len()\n"
     ]
    }
   ],
   "source": [
    "dtale.show(df_land)"
   ]
  },
  {
   "cell_type": "code",
   "execution_count": 92,
   "id": "bfde0b69-613c-4dd1-8ebf-e4d2e570e653",
   "metadata": {
    "scrolled": false
   },
   "outputs": [
    {
     "name": "stderr",
     "output_type": "stream",
     "text": [
      "C:\\Users\\mmm19\\anaconda3\\lib\\site-packages\\dtale\\views.py:816: FutureWarning:\n",
      "\n",
      "['الواجهة', 'عدد الحمامات', 'الدور'] did not aggregate successfully. If any error is raised this will raise in a future version of pandas. Drop these columns/ops to avoid this warning.\n",
      "\n"
     ]
    },
    {
     "data": {
      "text/html": [
       "\n",
       "        <iframe\n",
       "            width=\"100%\"\n",
       "            height=\"475\"\n",
       "            src=\"http://DESKTOP-A60UPUK:40000/dtale/iframe/9\"\n",
       "            frameborder=\"0\"\n",
       "            allowfullscreen\n",
       "            \n",
       "        ></iframe>\n",
       "        "
      ],
      "text/plain": [
       "<IPython.lib.display.IFrame at 0x219f1aa6670>"
      ]
     },
     "metadata": {},
     "output_type": "display_data"
    },
    {
     "data": {
      "text/plain": []
     },
     "execution_count": 92,
     "metadata": {},
     "output_type": "execute_result"
    }
   ],
   "source": [
    "dtale.show(df_apart)"
   ]
  },
  {
   "cell_type": "code",
   "execution_count": 93,
   "id": "7df366ae",
   "metadata": {},
   "outputs": [
    {
     "name": "stderr",
     "output_type": "stream",
     "text": [
      "C:\\Users\\mmm19\\anaconda3\\lib\\site-packages\\dtale\\views.py:816: FutureWarning:\n",
      "\n",
      "['الواجهة', 'عدد الغرف', 'عدد الصالات', 'عدد الحمامات'] did not aggregate successfully. If any error is raised this will raise in a future version of pandas. Drop these columns/ops to avoid this warning.\n",
      "\n",
      "2024-10-25 15:53:33,109 - ERROR    - Exception occurred while processing request: object of type 'NoneType' has no len()\n",
      "Traceback (most recent call last):\n",
      "  File \"C:\\Users\\mmm19\\anaconda3\\lib\\site-packages\\dtale\\views.py\", line 120, in _handle_exceptions\n",
      "    return func(*args, **kwargs)\n",
      "  File \"C:\\Users\\mmm19\\anaconda3\\lib\\site-packages\\dtale\\views.py\", line 1587, in get_processes\n",
      "    [_load_process(data_id) for data_id in global_state.keys()],\n",
      "  File \"C:\\Users\\mmm19\\anaconda3\\lib\\site-packages\\dtale\\views.py\", line 1587, in <listcomp>\n",
      "    [_load_process(data_id) for data_id in global_state.keys()],\n",
      "  File \"C:\\Users\\mmm19\\anaconda3\\lib\\site-packages\\dtale\\views.py\", line 1572, in _load_process\n",
      "    rows=len(data),\n",
      "TypeError: object of type 'NoneType' has no len()\n"
     ]
    },
    {
     "data": {
      "text/html": [
       "\n",
       "        <iframe\n",
       "            width=\"100%\"\n",
       "            height=\"475\"\n",
       "            src=\"http://DESKTOP-A60UPUK:40000/dtale/iframe/10\"\n",
       "            frameborder=\"0\"\n",
       "            allowfullscreen\n",
       "            \n",
       "        ></iframe>\n",
       "        "
      ],
      "text/plain": [
       "<IPython.lib.display.IFrame at 0x219f1a9fe80>"
      ]
     },
     "metadata": {},
     "output_type": "display_data"
    },
    {
     "data": {
      "text/plain": []
     },
     "execution_count": 93,
     "metadata": {},
     "output_type": "execute_result"
    },
    {
     "name": "stderr",
     "output_type": "stream",
     "text": [
      "2024-10-25 15:53:37,231 - ERROR    - Exception occurred while processing request: object of type 'NoneType' has no len()\n",
      "Traceback (most recent call last):\n",
      "  File \"C:\\Users\\mmm19\\anaconda3\\lib\\site-packages\\dtale\\views.py\", line 120, in _handle_exceptions\n",
      "    return func(*args, **kwargs)\n",
      "  File \"C:\\Users\\mmm19\\anaconda3\\lib\\site-packages\\dtale\\views.py\", line 1587, in get_processes\n",
      "    [_load_process(data_id) for data_id in global_state.keys()],\n",
      "  File \"C:\\Users\\mmm19\\anaconda3\\lib\\site-packages\\dtale\\views.py\", line 1587, in <listcomp>\n",
      "    [_load_process(data_id) for data_id in global_state.keys()],\n",
      "  File \"C:\\Users\\mmm19\\anaconda3\\lib\\site-packages\\dtale\\views.py\", line 1572, in _load_process\n",
      "    rows=len(data),\n",
      "TypeError: object of type 'NoneType' has no len()\n",
      "2024-10-25 15:56:06,197 - ERROR    - Exception occurred while processing request: object of type 'NoneType' has no len()\n",
      "Traceback (most recent call last):\n",
      "  File \"C:\\Users\\mmm19\\anaconda3\\lib\\site-packages\\dtale\\views.py\", line 120, in _handle_exceptions\n",
      "    return func(*args, **kwargs)\n",
      "  File \"C:\\Users\\mmm19\\anaconda3\\lib\\site-packages\\dtale\\views.py\", line 1587, in get_processes\n",
      "    [_load_process(data_id) for data_id in global_state.keys()],\n",
      "  File \"C:\\Users\\mmm19\\anaconda3\\lib\\site-packages\\dtale\\views.py\", line 1587, in <listcomp>\n",
      "    [_load_process(data_id) for data_id in global_state.keys()],\n",
      "  File \"C:\\Users\\mmm19\\anaconda3\\lib\\site-packages\\dtale\\views.py\", line 1572, in _load_process\n",
      "    rows=len(data),\n",
      "TypeError: object of type 'NoneType' has no len()\n",
      "C:\\Users\\mmm19\\anaconda3\\lib\\site-packages\\dtale\\views.py:2178: FutureWarning:\n",
      "\n",
      "The default value of regex will change from True to False in a future version.\n",
      "\n",
      "C:\\Users\\mmm19\\anaconda3\\lib\\site-packages\\dtale\\views.py:2178: FutureWarning:\n",
      "\n",
      "The default value of regex will change from True to False in a future version.\n",
      "\n",
      "C:\\Users\\mmm19\\anaconda3\\lib\\site-packages\\dtale\\views.py:2178: FutureWarning:\n",
      "\n",
      "The default value of regex will change from True to False in a future version.\n",
      "\n",
      "C:\\Users\\mmm19\\anaconda3\\lib\\site-packages\\dtale\\views.py:2178: FutureWarning:\n",
      "\n",
      "The default value of regex will change from True to False in a future version.\n",
      "\n",
      "C:\\Users\\mmm19\\anaconda3\\lib\\site-packages\\dtale\\views.py:2178: FutureWarning:\n",
      "\n",
      "The default value of regex will change from True to False in a future version.\n",
      "\n",
      "C:\\Users\\mmm19\\anaconda3\\lib\\site-packages\\dtale\\views.py:2178: FutureWarning:\n",
      "\n",
      "The default value of regex will change from True to False in a future version.\n",
      "\n",
      "C:\\Users\\mmm19\\anaconda3\\lib\\site-packages\\dtale\\views.py:2178: FutureWarning:\n",
      "\n",
      "The default value of regex will change from True to False in a future version.\n",
      "\n",
      "C:\\Users\\mmm19\\anaconda3\\lib\\site-packages\\dtale\\views.py:2178: FutureWarning:\n",
      "\n",
      "The default value of regex will change from True to False in a future version.\n",
      "\n",
      "C:\\Users\\mmm19\\anaconda3\\lib\\site-packages\\dtale\\views.py:2178: FutureWarning:\n",
      "\n",
      "The default value of regex will change from True to False in a future version.\n",
      "\n",
      "C:\\Users\\mmm19\\anaconda3\\lib\\site-packages\\dtale\\views.py:2178: FutureWarning:\n",
      "\n",
      "The default value of regex will change from True to False in a future version.\n",
      "\n",
      "C:\\Users\\mmm19\\anaconda3\\lib\\site-packages\\dtale\\views.py:2178: FutureWarning:\n",
      "\n",
      "The default value of regex will change from True to False in a future version.\n",
      "\n"
     ]
    }
   ],
   "source": [
    "dtale.show(df_villas)"
   ]
  },
  {
   "cell_type": "markdown",
   "id": "bd2b5bc4-db37-4432-b666-0714afd0c4ca",
   "metadata": {},
   "source": [
    "## 1. Data Profiling:\n",
    "Data profiling is a comprehensive process of examining the data available in an existing dataset and collecting statistics and information about that data. "
   ]
  },
  {
   "cell_type": "code",
   "execution_count": 94,
   "id": "53cfaa01",
   "metadata": {},
   "outputs": [
    {
     "name": "stderr",
     "output_type": "stream",
     "text": [
      "C:\\Users\\mmm19\\anaconda3\\lib\\site-packages\\dtale\\views.py:816: FutureWarning:\n",
      "\n",
      "['الواجهة', 'عدد الحمامات', 'الدور'] did not aggregate successfully. If any error is raised this will raise in a future version of pandas. Drop these columns/ops to avoid this warning.\n",
      "\n"
     ]
    },
    {
     "data": {
      "text/html": [
       "\n",
       "        <iframe\n",
       "            width=\"100%\"\n",
       "            height=\"475\"\n",
       "            src=\"http://DESKTOP-A60UPUK:40000/dtale/iframe/11\"\n",
       "            frameborder=\"0\"\n",
       "            allowfullscreen\n",
       "            \n",
       "        ></iframe>\n",
       "        "
      ],
      "text/plain": [
       "<IPython.lib.display.IFrame at 0x219f19aa5b0>"
      ]
     },
     "metadata": {},
     "output_type": "display_data"
    },
    {
     "data": {
      "text/plain": []
     },
     "execution_count": 94,
     "metadata": {},
     "output_type": "execute_result"
    },
    {
     "name": "stderr",
     "output_type": "stream",
     "text": [
      "2024-10-25 16:01:13,539 - ERROR    - Exception occurred while processing request: object of type 'NoneType' has no len()\n",
      "Traceback (most recent call last):\n",
      "  File \"C:\\Users\\mmm19\\anaconda3\\lib\\site-packages\\dtale\\views.py\", line 120, in _handle_exceptions\n",
      "    return func(*args, **kwargs)\n",
      "  File \"C:\\Users\\mmm19\\anaconda3\\lib\\site-packages\\dtale\\views.py\", line 1587, in get_processes\n",
      "    [_load_process(data_id) for data_id in global_state.keys()],\n",
      "  File \"C:\\Users\\mmm19\\anaconda3\\lib\\site-packages\\dtale\\views.py\", line 1587, in <listcomp>\n",
      "    [_load_process(data_id) for data_id in global_state.keys()],\n",
      "  File \"C:\\Users\\mmm19\\anaconda3\\lib\\site-packages\\dtale\\views.py\", line 1572, in _load_process\n",
      "    rows=len(data),\n",
      "TypeError: object of type 'NoneType' has no len()\n"
     ]
    }
   ],
   "source": [
    "dtale.show(df_apart)"
   ]
  },
  {
   "cell_type": "code",
   "execution_count": 257,
   "id": "9308c218",
   "metadata": {},
   "outputs": [
    {
     "data": {
      "text/plain": [
       "array(['جنوبية', 'شمالية غربية', 'nan', 'شمالية', 'شرقية', 'جنوبية شرقية',\n",
       "       'ثلاث شوارع', 'غربية', 'جنوبية غربية', 'شمالية شرقية'],\n",
       "      dtype=object)"
      ]
     },
     "execution_count": 257,
     "metadata": {},
     "output_type": "execute_result"
    }
   ],
   "source": [
    "df_apart[\"الواجهة\"] = df_apart[\"الواجهة\"].apply(lambda x: str(x).strip())\n",
    "df_apart[\"الواجهة\"].unique()"
   ]
  },
  {
   "cell_type": "code",
   "execution_count": 258,
   "id": "ed312269",
   "metadata": {},
   "outputs": [
    {
     "data": {
      "text/plain": [
       "array(['حي المروج', 'حي العارض', 'حي النرجس', 'حي الياسمين', 'حي العقيق',\n",
       "       'حي القيروان', 'حي الملقا', 'حي النخيل', 'الرياض', 'حي الصحافة',\n",
       "       'حي النفل', 'حي حطين', 'حي الربيع', 'حي المصيف', 'حي العليا',\n",
       "       'حي الفلاح', 'حي الندى', 'حي الملك فهد', 'حي الوادي', 'حي التعاون',\n",
       "       'حي المغرزات', 'حي المرسلات', 'حي النزهة', '',\n",
       "       'شارع عبدالله بن العاص', 'حي مطار الملك خالد الدولي'], dtype=object)"
      ]
     },
     "execution_count": 258,
     "metadata": {},
     "output_type": "execute_result"
    }
   ],
   "source": [
    "df_apart[\"الحي\"] = df_apart[\"الحي\"].apply(lambda x: str(x).strip())\n",
    "df_apart[\"الحي\"].unique()"
   ]
  },
  {
   "cell_type": "code",
   "execution_count": 259,
   "id": "39239f51",
   "metadata": {},
   "outputs": [
    {
     "data": {
      "text/plain": [
       "array(['الرياض', 'منطقة الرياض', 'امارة منطقة الرياض', 'حي العارض'],\n",
       "      dtype=object)"
      ]
     },
     "execution_count": 259,
     "metadata": {},
     "output_type": "execute_result"
    }
   ],
   "source": [
    "df_apart[\"المدينة\"] = df_apart[\"المدينة\"].apply(lambda x: str(x).strip())\n",
    "df_apart[\"المدينة\"].unique()"
   ]
  },
  {
   "cell_type": "code",
   "execution_count": 225,
   "id": "cec7c984",
   "metadata": {},
   "outputs": [
    {
     "name": "stderr",
     "output_type": "stream",
     "text": [
      "C:\\Users\\mmm19\\anaconda3\\lib\\site-packages\\dtale\\views.py:816: FutureWarning:\n",
      "\n",
      "['عدد الغرف', 'عدد الصالات', 'عدد الحمامات'] did not aggregate successfully. If any error is raised this will raise in a future version of pandas. Drop these columns/ops to avoid this warning.\n",
      "\n"
     ]
    },
    {
     "data": {
      "text/html": [
       "\n",
       "        <iframe\n",
       "            width=\"100%\"\n",
       "            height=\"475\"\n",
       "            src=\"http://DESKTOP-A60UPUK:40000/dtale/iframe/1\"\n",
       "            frameborder=\"0\"\n",
       "            allowfullscreen\n",
       "            \n",
       "        ></iframe>\n",
       "        "
      ],
      "text/plain": [
       "<IPython.lib.display.IFrame at 0x219ed6cf730>"
      ]
     },
     "metadata": {},
     "output_type": "display_data"
    },
    {
     "data": {
      "text/plain": []
     },
     "execution_count": 225,
     "metadata": {},
     "output_type": "execute_result"
    },
    {
     "name": "stderr",
     "output_type": "stream",
     "text": [
      "C:\\Users\\mmm19\\anaconda3\\lib\\site-packages\\dtale\\views.py:2178: FutureWarning:\n",
      "\n",
      "The default value of regex will change from True to False in a future version.\n",
      "\n"
     ]
    }
   ],
   "source": [
    "dtale.show(df_villas)"
   ]
  },
  {
   "cell_type": "code",
   "execution_count": 260,
   "id": "cd00088a",
   "metadata": {},
   "outputs": [
    {
     "data": {
      "text/plain": [
       "array(['حي العارض', 'حي النرجس', 'حي الملقا', 'حي النخيل', 'حي التعاون',\n",
       "       'حي الوادي', 'الرياض', 'حي جامعة الملك سعود', 'حي الربيع',\n",
       "       'العيينة', 'حي العقيق', 'حي الياسمين', 'حي العليا', 'حي النزهة',\n",
       "       'حي القيروان', 'حي النفل', 'حي الفلاح', 'القرينه', 'حي الرحمانية',\n",
       "       'حي المصيف', 'حي الندى', 'حي الصحافة', 'حي المحمدية', 'حي المروج',\n",
       "       'حي حطين', 'حي الملك فهد', 'حي الملقا7541', 'حي صلاح الدين',\n",
       "       'شارع سعيد السلمي', 'حي المونسية', 'حي القدس', 'حي الخليج',\n",
       "       'حي الرمال', 'حي النسيم الغربي', 'حي الريان', 'حي الروضة',\n",
       "       'حي الحمراء', 'حي النسيم الشرقي', 'حي اشبيلية', 'حي النهضة',\n",
       "       'حي القادسية', 'حي قرطبة', 'حي اليرموك', 'حي الملك فيصل',\n",
       "       'حي الصفا', 'حي النظيم', 'شارع جبل مره', 'حي البيان', 'حي السعادة',\n",
       "       'حي الاندلس', '', 'حي الجنادرية', 'حي الازدهار', 'حي غرناطة',\n",
       "       'حي المعيزلة', 'حي الفيحاء', 'حي مطار الملك خالد الدولي',\n",
       "       'حي الملز', 'حي السلام', 'حي الشهداء', 'حي الروابي', 'حي المنار',\n",
       "       'حي ظهرة لبن', 'حي المهدية', 'حي العريجاء الغربي', 'حي طويق',\n",
       "       'حي ظهرة البديعة', 'حي نمار', 'حي الحزم', 'حي الزهرة',\n",
       "       'حي هجرة لبن', 'حي الرفيعة', 'حي العوالي', 'حي شبرا', 'حي لبن',\n",
       "       'حي العريجاء الوسطى', 'حي العريجاء الغربية', 'حي السويدي الغربي',\n",
       "       'طريق الامير مساعد بن عبدالرحمن بن فيصل', 'الطريق الدائري الغربي',\n",
       "       'حي عكاظ', 'حي الدار البيضاء', 'حي بدر', 'حي الشفا', 'حي طيبة',\n",
       "       'حي العزيزية', 'حي المناخ', 'حي احد', 'حي الاسكان', 'حي جرير',\n",
       "       'حي الربوة', 'حي الفاروق', 'حي الخالدية', 'حي الزهراء', 'حي الشرق',\n",
       "       'حي الندوة', 'حي الملك عبدالعزيز', 'حي المعيزيلة',\n",
       "       'شارع ابراهيم القيسي', 'حي الجزيرة', 'حي الملك عبد العزيز'],\n",
       "      dtype=object)"
      ]
     },
     "execution_count": 260,
     "metadata": {},
     "output_type": "execute_result"
    }
   ],
   "source": [
    "df_villas[\"الحي\"] = df_villas[\"الحي\"].apply(lambda x: str(x).strip())\n",
    "df_villas[\"الحي\"].unique()"
   ]
  },
  {
   "cell_type": "code",
   "execution_count": 261,
   "id": "b28904df",
   "metadata": {},
   "outputs": [],
   "source": [
    "df_villas[\"الحي\"].replace(\"حي الملقا7541\", \"حي الملقا\" , inplace= True)"
   ]
  },
  {
   "cell_type": "code",
   "execution_count": 262,
   "id": "52995b75",
   "metadata": {},
   "outputs": [
    {
     "data": {
      "text/plain": [
       "array(['حي العارض', 'حي النرجس', 'حي الملقا', 'حي النخيل', 'حي التعاون',\n",
       "       'حي الوادي', 'الرياض', 'حي جامعة الملك سعود', 'حي الربيع',\n",
       "       'العيينة', 'حي العقيق', 'حي الياسمين', 'حي العليا', 'حي النزهة',\n",
       "       'حي القيروان', 'حي النفل', 'حي الفلاح', 'القرينه', 'حي الرحمانية',\n",
       "       'حي المصيف', 'حي الندى', 'حي الصحافة', 'حي المحمدية', 'حي المروج',\n",
       "       'حي حطين', 'حي الملك فهد', 'حي صلاح الدين', 'شارع سعيد السلمي',\n",
       "       'حي المونسية', 'حي القدس', 'حي الخليج', 'حي الرمال',\n",
       "       'حي النسيم الغربي', 'حي الريان', 'حي الروضة', 'حي الحمراء',\n",
       "       'حي النسيم الشرقي', 'حي اشبيلية', 'حي النهضة', 'حي القادسية',\n",
       "       'حي قرطبة', 'حي اليرموك', 'حي الملك فيصل', 'حي الصفا', 'حي النظيم',\n",
       "       'شارع جبل مره', 'حي البيان', 'حي السعادة', 'حي الاندلس', '',\n",
       "       'حي الجنادرية', 'حي الازدهار', 'حي غرناطة', 'حي المعيزلة',\n",
       "       'حي الفيحاء', 'حي مطار الملك خالد الدولي', 'حي الملز', 'حي السلام',\n",
       "       'حي الشهداء', 'حي الروابي', 'حي المنار', 'حي ظهرة لبن',\n",
       "       'حي المهدية', 'حي العريجاء الغربي', 'حي طويق', 'حي ظهرة البديعة',\n",
       "       'حي نمار', 'حي الحزم', 'حي الزهرة', 'حي هجرة لبن', 'حي الرفيعة',\n",
       "       'حي العوالي', 'حي شبرا', 'حي لبن', 'حي العريجاء الوسطى',\n",
       "       'حي العريجاء الغربية', 'حي السويدي الغربي',\n",
       "       'طريق الامير مساعد بن عبدالرحمن بن فيصل', 'الطريق الدائري الغربي',\n",
       "       'حي عكاظ', 'حي الدار البيضاء', 'حي بدر', 'حي الشفا', 'حي طيبة',\n",
       "       'حي العزيزية', 'حي المناخ', 'حي احد', 'حي الاسكان', 'حي جرير',\n",
       "       'حي الربوة', 'حي الفاروق', 'حي الخالدية', 'حي الزهراء', 'حي الشرق',\n",
       "       'حي الندوة', 'حي الملك عبدالعزيز', 'حي المعيزيلة',\n",
       "       'شارع ابراهيم القيسي', 'حي الجزيرة', 'حي الملك عبد العزيز'],\n",
       "      dtype=object)"
      ]
     },
     "execution_count": 262,
     "metadata": {},
     "output_type": "execute_result"
    }
   ],
   "source": [
    "df_villas[\"الحي\"].unique()"
   ]
  },
  {
   "cell_type": "code",
   "execution_count": 272,
   "id": "80ce773b",
   "metadata": {},
   "outputs": [],
   "source": [
    "df_villas = df_villas[~((df_villas[\"المساحة\"] >= 1000) & (df_villas[\"السعر الاجمالي\"] <= 5000000))]"
   ]
  },
  {
   "cell_type": "markdown",
   "id": "834929aa-fd6a-4ec5-84d4-77c4b3c1a506",
   "metadata": {},
   "source": [
    "The process of profiling differs slightly for categorical and numerical variables due to their inherent differences.\n",
    "\n",
    "**The two main types of data are:**\n",
    "- Quantitative (numerical) data\n",
    "- Qualitative (categorical) data"
   ]
  },
  {
   "cell_type": "markdown",
   "id": "3a9954f5-6fbc-45b4-ad86-3e21b6e0ca2d",
   "metadata": {},
   "source": [
    "### Data Quality Checks\n",
    "Data quality checks involve the process of ensuring that the data is accurate, complete, consistent, relevant, and reliable. \n",
    "\n",
    "\n",
    "**Here are typical steps involved in checking data quality:**"
   ]
  },
  {
   "cell_type": "markdown",
   "id": "4818c876-173d-4e56-9e7d-b4334d2def25",
   "metadata": {},
   "source": [
    "#### 1. Reliability:\n",
    "Evaluate the data's source and collection process to determine its trustworthiness."
   ]
  },
  {
   "cell_type": "code",
   "execution_count": 58,
   "id": "9034ae7b-dc1d-4cba-8f9e-bb499d021cde",
   "metadata": {},
   "outputs": [],
   "source": [
    "# مصدر البيانات غير مذكور"
   ]
  },
  {
   "cell_type": "markdown",
   "id": "2ce0cc59-8c92-4acc-8d07-c40764e1a86b",
   "metadata": {},
   "source": [
    "#### 2. Timeliness: \n",
    "Ensure the data is up-to-date and reflective of the current situation or the period of interest for the analysis."
   ]
  },
  {
   "cell_type": "code",
   "execution_count": null,
   "id": "4b78ae35-7226-4cb6-b8b2-a46c2ed17cf9",
   "metadata": {},
   "outputs": [],
   "source": [
    "# تاريخ جمع البيانات غير محدد"
   ]
  },
  {
   "cell_type": "markdown",
   "id": "7fab0fe2-6624-4615-b9d8-3c3669056bf8",
   "metadata": {},
   "source": [
    "#### 3. Consistency: \n",
    "\n",
    "Confirm that the data is consistent within the dataset and across multiple data sources. For example, the same data point should not have different values in different places.\n"
   ]
  },
  {
   "cell_type": "code",
   "execution_count": 59,
   "id": "7fecc573-959f-4800-8ddd-a67985c68b18",
   "metadata": {},
   "outputs": [],
   "source": [
    "# البيانات متناسقة"
   ]
  },
  {
   "cell_type": "markdown",
   "id": "bec3d183-bba0-4b12-b963-487daab1e876",
   "metadata": {},
   "source": [
    "#### 4. Relevance: \n",
    "Assess whether the data is appropriate and applicable for the intended analysis. Data that is not relevant can skew results and lead to incorrect conclusions.\n",
    "\n",
    "**Key considerations for relevance include:**\n",
    "\n",
    "> 1. Sample Appropriateness: Confirm that your data sample aligns with your analysis objectives. For instance, utilizing data from the Northern region will not yield accurate insights for the Western region of the Kingdom.\n",
    ">\n",
    "> 2. Variable Selection: Any column will not be relevant for our analysis, we can get rid of these using the drop() method. We will set the “axis” argument to 1 since we’re dealing with columns, and set the “inplace” argument to True to make the change permanent.\n"
   ]
  },
  {
   "cell_type": "code",
   "execution_count": null,
   "id": "50a934b7-a0cd-443f-8a27-f10e9a6e8647",
   "metadata": {
    "scrolled": true
   },
   "outputs": [],
   "source": [
    "# البيانات ذات علاقة بالحل"
   ]
  },
  {
   "cell_type": "markdown",
   "id": "0f5e3a2a-bbb7-4d06-8220-c93277b70146",
   "metadata": {},
   "source": [
    "#### 5. Uniqueness: \n",
    "Check for and remove duplicate records to prevent skewed analysis results.\n"
   ]
  },
  {
   "cell_type": "code",
   "execution_count": 273,
   "id": "a509a7aa-58f4-4d39-8eb8-e8298a21f2a7",
   "metadata": {},
   "outputs": [
    {
     "data": {
      "text/plain": [
       "139"
      ]
     },
     "execution_count": 273,
     "metadata": {},
     "output_type": "execute_result"
    }
   ],
   "source": [
    "df_apart.duplicated().sum()"
   ]
  },
  {
   "cell_type": "code",
   "execution_count": 274,
   "id": "5449b468",
   "metadata": {},
   "outputs": [],
   "source": [
    "df_apart.drop_duplicates(inplace=True)"
   ]
  },
  {
   "cell_type": "code",
   "execution_count": 275,
   "id": "603236fd",
   "metadata": {},
   "outputs": [
    {
     "data": {
      "text/plain": [
       "259"
      ]
     },
     "execution_count": 275,
     "metadata": {},
     "output_type": "execute_result"
    }
   ],
   "source": [
    "df_land.duplicated().sum()"
   ]
  },
  {
   "cell_type": "code",
   "execution_count": 276,
   "id": "c8fab0a5",
   "metadata": {},
   "outputs": [],
   "source": [
    "df_land.drop_duplicates(inplace=True)"
   ]
  },
  {
   "cell_type": "code",
   "execution_count": 277,
   "id": "6ce7e990",
   "metadata": {},
   "outputs": [
    {
     "data": {
      "text/plain": [
       "135"
      ]
     },
     "execution_count": 277,
     "metadata": {},
     "output_type": "execute_result"
    }
   ],
   "source": [
    "df_villas.duplicated().sum()"
   ]
  },
  {
   "cell_type": "code",
   "execution_count": 278,
   "id": "cbc23d84",
   "metadata": {},
   "outputs": [
    {
     "name": "stderr",
     "output_type": "stream",
     "text": [
      "C:\\Users\\mmm19\\AppData\\Local\\Temp\\ipykernel_17504\\3969445566.py:1: SettingWithCopyWarning:\n",
      "\n",
      "\n",
      "A value is trying to be set on a copy of a slice from a DataFrame\n",
      "\n",
      "See the caveats in the documentation: https://pandas.pydata.org/pandas-docs/stable/user_guide/indexing.html#returning-a-view-versus-a-copy\n",
      "\n"
     ]
    }
   ],
   "source": [
    "df_villas.drop_duplicates(inplace=True)"
   ]
  },
  {
   "cell_type": "code",
   "execution_count": 66,
   "id": "04c62559-3b48-48cf-a4e9-857e2e0ff416",
   "metadata": {},
   "outputs": [],
   "source": [
    "# go to delete duplicates columns"
   ]
  },
  {
   "cell_type": "markdown",
   "id": "c7724ac2-4ea2-4cf4-a9e0-e64368f87b92",
   "metadata": {},
   "source": [
    "#### 6. Completeness: \n",
    "Ensure that no critical data is missing. This might mean checking for null values or required fields that are empty.\n",
    "\n",
    "We will start by checking the dataset for missing or null values. For this, we can use the isna() method which returns a dataframe of boolean values indicating if a field is null or not. To group all missing values by column, we can include the sum() method."
   ]
  },
  {
   "cell_type": "code",
   "execution_count": 279,
   "id": "48a4de54-a344-4b94-9908-9528c15c13f7",
   "metadata": {},
   "outputs": [
    {
     "data": {
      "text/plain": [
       "نوع العقار         0\n",
       "الغرض             47\n",
       "المدينة            0\n",
       "الحي               0\n",
       "الواجهة            0\n",
       "المساحة            0\n",
       "سعر المتر          0\n",
       "السعر الإجمالي     0\n",
       "dtype: int64"
      ]
     },
     "execution_count": 279,
     "metadata": {},
     "output_type": "execute_result"
    }
   ],
   "source": [
    "#Display number missing values per column\n",
    "df_land.isnull().sum()"
   ]
  },
  {
   "cell_type": "code",
   "execution_count": 280,
   "id": "e64aae6e",
   "metadata": {},
   "outputs": [],
   "source": [
    "df_land[\"الغرض\"].fillna(\"مجهول\", inplace=True)"
   ]
  },
  {
   "cell_type": "code",
   "execution_count": 281,
   "id": "7a8ab9e7",
   "metadata": {},
   "outputs": [
    {
     "data": {
      "text/plain": [
       "نوع العقار        0\n",
       "الغرض             0\n",
       "المدينة           0\n",
       "الحي              0\n",
       "الواجهة           0\n",
       "المساحة           0\n",
       "سعر المتر         0\n",
       "السعر الإجمالي    0\n",
       "dtype: int64"
      ]
     },
     "execution_count": 281,
     "metadata": {},
     "output_type": "execute_result"
    }
   ],
   "source": [
    "df_land.isnull().sum()"
   ]
  },
  {
   "cell_type": "code",
   "execution_count": 285,
   "id": "9eba519e",
   "metadata": {},
   "outputs": [
    {
     "data": {
      "text/plain": [
       "نوع العقار         0\n",
       "المدينة            0\n",
       "الحي               0\n",
       "الواجهة            0\n",
       "عدد الغرف          0\n",
       "عدد الصالات        8\n",
       "عدد الحمامات       0\n",
       "المساحة            0\n",
       "مطبخ               0\n",
       "مدخل سيارة         0\n",
       "مصعد               0\n",
       "الدور             53\n",
       "عمر العقار         0\n",
       "مؤثثة              0\n",
       "السعر الاجمالي     0\n",
       "dtype: int64"
      ]
     },
     "execution_count": 285,
     "metadata": {},
     "output_type": "execute_result"
    }
   ],
   "source": [
    "df_apart.isnull().sum()"
   ]
  },
  {
   "cell_type": "code",
   "execution_count": 284,
   "id": "5c228849",
   "metadata": {},
   "outputs": [],
   "source": [
    "df_apart = df_apart[~df_apart[\"عمر العقار\"].isnull()]"
   ]
  },
  {
   "cell_type": "code",
   "execution_count": 286,
   "id": "43ab12fd",
   "metadata": {},
   "outputs": [
    {
     "data": {
      "text/plain": [
       "array([3, 'علوي', 'أرضي', nan, 4, 'ثاني', 'دور 59', 'ارضي', 'ثالث', '20+',\n",
       "       'اول'], dtype=object)"
      ]
     },
     "execution_count": 286,
     "metadata": {},
     "output_type": "execute_result"
    }
   ],
   "source": [
    "df_apart[\"الدور\"].unique()"
   ]
  },
  {
   "cell_type": "code",
   "execution_count": 287,
   "id": "78fab13e",
   "metadata": {},
   "outputs": [
    {
     "name": "stderr",
     "output_type": "stream",
     "text": [
      "C:\\Users\\mmm19\\AppData\\Local\\Temp\\ipykernel_17504\\2385327616.py:1: SettingWithCopyWarning:\n",
      "\n",
      "\n",
      "A value is trying to be set on a copy of a slice from a DataFrame.\n",
      "Try using .loc[row_indexer,col_indexer] = value instead\n",
      "\n",
      "See the caveats in the documentation: https://pandas.pydata.org/pandas-docs/stable/user_guide/indexing.html#returning-a-view-versus-a-copy\n",
      "\n"
     ]
    },
    {
     "data": {
      "text/plain": [
       "array(['ثالث', 'علوي', 'أرضي', nan, 4, 'ثاني', 'دور 59', 'ارضي', '20+',\n",
       "       'اول'], dtype=object)"
      ]
     },
     "execution_count": 287,
     "metadata": {},
     "output_type": "execute_result"
    }
   ],
   "source": [
    "df_apart[\"الدور\"] = df_apart[\"الدور\"].replace(3, \"ثالث\")\n",
    "df_apart[\"الدور\"].unique()"
   ]
  },
  {
   "cell_type": "code",
   "execution_count": 288,
   "id": "e71b5e46",
   "metadata": {},
   "outputs": [
    {
     "name": "stderr",
     "output_type": "stream",
     "text": [
      "C:\\Users\\mmm19\\AppData\\Local\\Temp\\ipykernel_17504\\452688238.py:1: SettingWithCopyWarning:\n",
      "\n",
      "\n",
      "A value is trying to be set on a copy of a slice from a DataFrame.\n",
      "Try using .loc[row_indexer,col_indexer] = value instead\n",
      "\n",
      "See the caveats in the documentation: https://pandas.pydata.org/pandas-docs/stable/user_guide/indexing.html#returning-a-view-versus-a-copy\n",
      "\n"
     ]
    },
    {
     "data": {
      "text/plain": [
       "array(['ثالث', 'علوي', 'أرضي', nan, 4, 'ثاني', '5+', 'ارضي', 'اول'],\n",
       "      dtype=object)"
      ]
     },
     "execution_count": 288,
     "metadata": {},
     "output_type": "execute_result"
    }
   ],
   "source": [
    "df_apart[\"الدور\"]  = df_apart[\"الدور\"].replace([\"20+\", \"دور 59\"], \"5+\")\n",
    "df_apart[\"الدور\"] .unique()"
   ]
  },
  {
   "cell_type": "code",
   "execution_count": 289,
   "id": "2183715c",
   "metadata": {},
   "outputs": [
    {
     "name": "stderr",
     "output_type": "stream",
     "text": [
      "C:\\Users\\mmm19\\AppData\\Local\\Temp\\ipykernel_17504\\1623265529.py:1: SettingWithCopyWarning:\n",
      "\n",
      "\n",
      "A value is trying to be set on a copy of a slice from a DataFrame.\n",
      "Try using .loc[row_indexer,col_indexer] = value instead\n",
      "\n",
      "See the caveats in the documentation: https://pandas.pydata.org/pandas-docs/stable/user_guide/indexing.html#returning-a-view-versus-a-copy\n",
      "\n"
     ]
    },
    {
     "data": {
      "text/plain": [
       "array(['ثالث', 'علوي', 'ارضي', nan, 4, 'ثاني', '5+', 'اول'], dtype=object)"
      ]
     },
     "execution_count": 289,
     "metadata": {},
     "output_type": "execute_result"
    }
   ],
   "source": [
    "df_apart[\"الدور\"] = df_apart[\"الدور\"].replace(\"أرضي\", \"ارضي\")\n",
    "df_apart[\"الدور\"] .unique()"
   ]
  },
  {
   "cell_type": "code",
   "execution_count": 290,
   "id": "c3608dcb",
   "metadata": {},
   "outputs": [
    {
     "name": "stderr",
     "output_type": "stream",
     "text": [
      "C:\\Users\\mmm19\\AppData\\Local\\Temp\\ipykernel_17504\\1484475711.py:1: SettingWithCopyWarning:\n",
      "\n",
      "\n",
      "A value is trying to be set on a copy of a slice from a DataFrame\n",
      "\n",
      "See the caveats in the documentation: https://pandas.pydata.org/pandas-docs/stable/user_guide/indexing.html#returning-a-view-versus-a-copy\n",
      "\n"
     ]
    }
   ],
   "source": [
    "df_apart[\"الدور\"].fillna(\"مجهول\", inplace=True)"
   ]
  },
  {
   "cell_type": "code",
   "execution_count": 291,
   "id": "79a3584c",
   "metadata": {},
   "outputs": [
    {
     "data": {
      "text/plain": [
       "نوع العقار        0\n",
       "المدينة           0\n",
       "الحي              0\n",
       "الواجهة           0\n",
       "عدد الغرف         0\n",
       "عدد الصالات       8\n",
       "عدد الحمامات      0\n",
       "المساحة           0\n",
       "مطبخ              0\n",
       "مدخل سيارة        0\n",
       "مصعد              0\n",
       "الدور             0\n",
       "عمر العقار        0\n",
       "مؤثثة             0\n",
       "السعر الاجمالي    0\n",
       "dtype: int64"
      ]
     },
     "execution_count": 291,
     "metadata": {},
     "output_type": "execute_result"
    }
   ],
   "source": [
    "df_apart.isnull().sum()"
   ]
  },
  {
   "cell_type": "code",
   "execution_count": 293,
   "id": "3dbaaebc",
   "metadata": {},
   "outputs": [],
   "source": [
    "df_apart_nan = df_apart[~df_apart[\"عدد الصالات\"].isnull()]"
   ]
  },
  {
   "cell_type": "code",
   "execution_count": 295,
   "id": "f0b1ee88",
   "metadata": {},
   "outputs": [
    {
     "data": {
      "text/plain": [
       "1.0    305\n",
       "2.0     96\n",
       "3.0      2\n",
       "Name: عدد الصالات, dtype: int64"
      ]
     },
     "execution_count": 295,
     "metadata": {},
     "output_type": "execute_result"
    }
   ],
   "source": [
    "df_apart_nan[\"عدد الصالات\"].value_counts()"
   ]
  },
  {
   "cell_type": "code",
   "execution_count": 297,
   "id": "81275296",
   "metadata": {},
   "outputs": [
    {
     "name": "stderr",
     "output_type": "stream",
     "text": [
      "C:\\Users\\mmm19\\AppData\\Local\\Temp\\ipykernel_17504\\3167659643.py:1: SettingWithCopyWarning:\n",
      "\n",
      "\n",
      "A value is trying to be set on a copy of a slice from a DataFrame\n",
      "\n",
      "See the caveats in the documentation: https://pandas.pydata.org/pandas-docs/stable/user_guide/indexing.html#returning-a-view-versus-a-copy\n",
      "\n"
     ]
    }
   ],
   "source": [
    "df_apart[\"عدد الصالات\"].fillna(1.0, inplace=True)"
   ]
  },
  {
   "cell_type": "code",
   "execution_count": 298,
   "id": "8acee73e",
   "metadata": {},
   "outputs": [
    {
     "data": {
      "text/plain": [
       "نوع العقار        0\n",
       "المدينة           0\n",
       "الحي              0\n",
       "الواجهة           0\n",
       "عدد الغرف         0\n",
       "عدد الصالات       0\n",
       "عدد الحمامات      0\n",
       "المساحة           0\n",
       "مطبخ              0\n",
       "مدخل سيارة        0\n",
       "مصعد              0\n",
       "الدور             0\n",
       "عمر العقار        0\n",
       "مؤثثة             0\n",
       "السعر الاجمالي    0\n",
       "dtype: int64"
      ]
     },
     "execution_count": 298,
     "metadata": {},
     "output_type": "execute_result"
    }
   ],
   "source": [
    "df_apart.isnull().sum()"
   ]
  },
  {
   "cell_type": "code",
   "execution_count": 299,
   "id": "9fe0519e",
   "metadata": {},
   "outputs": [
    {
     "data": {
      "text/plain": [
       "نوع العقار          0\n",
       "المدينة             0\n",
       "الحي                0\n",
       "الواجهة            30\n",
       "عدد الغرف          80\n",
       "عدد الصالات       101\n",
       "عدد الحمامات       80\n",
       "عرض الشارع        529\n",
       "المساحة            30\n",
       "درج صالة            0\n",
       "مطبخ                0\n",
       "غرفة خادمة          0\n",
       "غرفة سائق           0\n",
       "ملحق                0\n",
       "حوش                 0\n",
       "مسبح                0\n",
       "قبو                 0\n",
       "مدخل سيارة          0\n",
       "مصعد                0\n",
       "السعر الاجمالي      0\n",
       "dtype: int64"
      ]
     },
     "execution_count": 299,
     "metadata": {},
     "output_type": "execute_result"
    }
   ],
   "source": [
    "df_villas.isnull().sum()"
   ]
  },
  {
   "cell_type": "code",
   "execution_count": 214,
   "id": "2b297c9e",
   "metadata": {},
   "outputs": [
    {
     "data": {
      "text/plain": [
       "(924, 20)"
      ]
     },
     "execution_count": 214,
     "metadata": {},
     "output_type": "execute_result"
    }
   ],
   "source": [
    "df_villas.shape"
   ]
  },
  {
   "cell_type": "code",
   "execution_count": 304,
   "id": "224211cd",
   "metadata": {},
   "outputs": [
    {
     "data": {
      "text/html": [
       "<div>\n",
       "<style scoped>\n",
       "    .dataframe tbody tr th:only-of-type {\n",
       "        vertical-align: middle;\n",
       "    }\n",
       "\n",
       "    .dataframe tbody tr th {\n",
       "        vertical-align: top;\n",
       "    }\n",
       "\n",
       "    .dataframe thead th {\n",
       "        text-align: right;\n",
       "    }\n",
       "</style>\n",
       "<table border=\"1\" class=\"dataframe\">\n",
       "  <thead>\n",
       "    <tr style=\"text-align: right;\">\n",
       "      <th></th>\n",
       "      <th>نوع العقار</th>\n",
       "      <th>المدينة</th>\n",
       "      <th>الحي</th>\n",
       "      <th>الواجهة</th>\n",
       "      <th>عدد الغرف</th>\n",
       "      <th>عدد الصالات</th>\n",
       "      <th>عدد الحمامات</th>\n",
       "      <th>عرض الشارع</th>\n",
       "      <th>المساحة</th>\n",
       "      <th>درج صالة</th>\n",
       "      <th>مطبخ</th>\n",
       "      <th>غرفة خادمة</th>\n",
       "      <th>غرفة سائق</th>\n",
       "      <th>ملحق</th>\n",
       "      <th>حوش</th>\n",
       "      <th>مسبح</th>\n",
       "      <th>قبو</th>\n",
       "      <th>مدخل سيارة</th>\n",
       "      <th>مصعد</th>\n",
       "      <th>السعر الاجمالي</th>\n",
       "    </tr>\n",
       "  </thead>\n",
       "  <tbody>\n",
       "  </tbody>\n",
       "</table>\n",
       "</div>"
      ],
      "text/plain": [
       "Empty DataFrame\n",
       "Columns: [نوع العقار, المدينة, الحي, الواجهة, عدد الغرف, عدد الصالات, عدد الحمامات, عرض الشارع, المساحة, درج صالة, مطبخ, غرفة خادمة, غرفة سائق, ملحق, حوش, مسبح, قبو, مدخل سيارة, مصعد, السعر الاجمالي]\n",
       "Index: []"
      ]
     },
     "execution_count": 304,
     "metadata": {},
     "output_type": "execute_result"
    }
   ],
   "source": [
    "df_villas[df_villas[\"المساحة\"].isnull()]"
   ]
  },
  {
   "cell_type": "code",
   "execution_count": 302,
   "id": "6ced7564",
   "metadata": {},
   "outputs": [],
   "source": [
    "df_villas = df_villas[~df_villas[\"المساحة\"].isnull()]"
   ]
  },
  {
   "cell_type": "code",
   "execution_count": 305,
   "id": "b43532b9",
   "metadata": {},
   "outputs": [
    {
     "data": {
      "text/html": [
       "<div>\n",
       "<style scoped>\n",
       "    .dataframe tbody tr th:only-of-type {\n",
       "        vertical-align: middle;\n",
       "    }\n",
       "\n",
       "    .dataframe tbody tr th {\n",
       "        vertical-align: top;\n",
       "    }\n",
       "\n",
       "    .dataframe thead th {\n",
       "        text-align: right;\n",
       "    }\n",
       "</style>\n",
       "<table border=\"1\" class=\"dataframe\">\n",
       "  <thead>\n",
       "    <tr style=\"text-align: right;\">\n",
       "      <th></th>\n",
       "      <th>نوع العقار</th>\n",
       "      <th>المدينة</th>\n",
       "      <th>الحي</th>\n",
       "      <th>الواجهة</th>\n",
       "      <th>عدد الغرف</th>\n",
       "      <th>عدد الصالات</th>\n",
       "      <th>عدد الحمامات</th>\n",
       "      <th>عرض الشارع</th>\n",
       "      <th>المساحة</th>\n",
       "      <th>درج صالة</th>\n",
       "      <th>مطبخ</th>\n",
       "      <th>غرفة خادمة</th>\n",
       "      <th>غرفة سائق</th>\n",
       "      <th>ملحق</th>\n",
       "      <th>حوش</th>\n",
       "      <th>مسبح</th>\n",
       "      <th>قبو</th>\n",
       "      <th>مدخل سيارة</th>\n",
       "      <th>مصعد</th>\n",
       "      <th>السعر الاجمالي</th>\n",
       "    </tr>\n",
       "  </thead>\n",
       "  <tbody>\n",
       "    <tr>\n",
       "      <th>713</th>\n",
       "      <td>فيلا</td>\n",
       "      <td>امارة منطقة الرياض</td>\n",
       "      <td>الرياض</td>\n",
       "      <td>جنوبية</td>\n",
       "      <td>NaN</td>\n",
       "      <td>NaN</td>\n",
       "      <td>NaN</td>\n",
       "      <td>NaN</td>\n",
       "      <td>321.0</td>\n",
       "      <td>0</td>\n",
       "      <td>0</td>\n",
       "      <td>0</td>\n",
       "      <td>0</td>\n",
       "      <td>0</td>\n",
       "      <td>0</td>\n",
       "      <td>0</td>\n",
       "      <td>0</td>\n",
       "      <td>0</td>\n",
       "      <td>0</td>\n",
       "      <td>3150000</td>\n",
       "    </tr>\n",
       "    <tr>\n",
       "      <th>714</th>\n",
       "      <td>فيلا</td>\n",
       "      <td>الرياض</td>\n",
       "      <td>حي الرمال</td>\n",
       "      <td>شمالية</td>\n",
       "      <td>NaN</td>\n",
       "      <td>NaN</td>\n",
       "      <td>NaN</td>\n",
       "      <td>NaN</td>\n",
       "      <td>281.0</td>\n",
       "      <td>0</td>\n",
       "      <td>0</td>\n",
       "      <td>0</td>\n",
       "      <td>0</td>\n",
       "      <td>0</td>\n",
       "      <td>0</td>\n",
       "      <td>0</td>\n",
       "      <td>0</td>\n",
       "      <td>0</td>\n",
       "      <td>0</td>\n",
       "      <td>1400000</td>\n",
       "    </tr>\n",
       "    <tr>\n",
       "      <th>720</th>\n",
       "      <td>فيلا</td>\n",
       "      <td>الرياض</td>\n",
       "      <td>حي الرمال</td>\n",
       "      <td>جنوبية</td>\n",
       "      <td>NaN</td>\n",
       "      <td>NaN</td>\n",
       "      <td>NaN</td>\n",
       "      <td>NaN</td>\n",
       "      <td>355.0</td>\n",
       "      <td>0</td>\n",
       "      <td>0</td>\n",
       "      <td>0</td>\n",
       "      <td>0</td>\n",
       "      <td>0</td>\n",
       "      <td>0</td>\n",
       "      <td>0</td>\n",
       "      <td>0</td>\n",
       "      <td>0</td>\n",
       "      <td>0</td>\n",
       "      <td>2400000</td>\n",
       "    </tr>\n",
       "    <tr>\n",
       "      <th>721</th>\n",
       "      <td>فيلا</td>\n",
       "      <td>امارة منطقة الرياض</td>\n",
       "      <td>الرياض</td>\n",
       "      <td>غربية</td>\n",
       "      <td>NaN</td>\n",
       "      <td>NaN</td>\n",
       "      <td>NaN</td>\n",
       "      <td>NaN</td>\n",
       "      <td>363.0</td>\n",
       "      <td>0</td>\n",
       "      <td>0</td>\n",
       "      <td>0</td>\n",
       "      <td>0</td>\n",
       "      <td>0</td>\n",
       "      <td>0</td>\n",
       "      <td>0</td>\n",
       "      <td>0</td>\n",
       "      <td>0</td>\n",
       "      <td>0</td>\n",
       "      <td>1700000</td>\n",
       "    </tr>\n",
       "    <tr>\n",
       "      <th>723</th>\n",
       "      <td>فيلا</td>\n",
       "      <td>امارة منطقة الرياض</td>\n",
       "      <td>الرياض</td>\n",
       "      <td>شرقية</td>\n",
       "      <td>NaN</td>\n",
       "      <td>NaN</td>\n",
       "      <td>NaN</td>\n",
       "      <td>NaN</td>\n",
       "      <td>495.0</td>\n",
       "      <td>0</td>\n",
       "      <td>0</td>\n",
       "      <td>0</td>\n",
       "      <td>0</td>\n",
       "      <td>0</td>\n",
       "      <td>0</td>\n",
       "      <td>0</td>\n",
       "      <td>0</td>\n",
       "      <td>0</td>\n",
       "      <td>0</td>\n",
       "      <td>3500000</td>\n",
       "    </tr>\n",
       "  </tbody>\n",
       "</table>\n",
       "</div>"
      ],
      "text/plain": [
       "    نوع العقار              المدينة       الحي الواجهة عدد الغرف عدد الصالات  \\\n",
       "713       فيلا   امارة منطقة الرياض     الرياض  جنوبية       NaN         NaN   \n",
       "714       فيلا              الرياض   حي الرمال  شمالية       NaN         NaN   \n",
       "720       فيلا              الرياض   حي الرمال  جنوبية       NaN         NaN   \n",
       "721       فيلا   امارة منطقة الرياض     الرياض   غربية       NaN         NaN   \n",
       "723       فيلا   امارة منطقة الرياض     الرياض   شرقية       NaN         NaN   \n",
       "\n",
       "    عدد الحمامات  عرض الشارع  المساحة  درج صالة  مطبخ  غرفة خادمة  غرفة سائق  \\\n",
       "713          NaN         NaN    321.0         0     0           0          0   \n",
       "714          NaN         NaN    281.0         0     0           0          0   \n",
       "720          NaN         NaN    355.0         0     0           0          0   \n",
       "721          NaN         NaN    363.0         0     0           0          0   \n",
       "723          NaN         NaN    495.0         0     0           0          0   \n",
       "\n",
       "     ملحق  حوش  مسبح  قبو  مدخل سيارة  مصعد  السعر الاجمالي  \n",
       "713     0    0     0    0           0     0         3150000  \n",
       "714     0    0     0    0           0     0         1400000  \n",
       "720     0    0     0    0           0     0         2400000  \n",
       "721     0    0     0    0           0     0         1700000  \n",
       "723     0    0     0    0           0     0         3500000  "
      ]
     },
     "execution_count": 305,
     "metadata": {},
     "output_type": "execute_result"
    }
   ],
   "source": [
    "df_villas[df_villas[\"عدد الغرف\"].isnull()].head()"
   ]
  },
  {
   "cell_type": "code",
   "execution_count": 306,
   "id": "8154226f",
   "metadata": {},
   "outputs": [],
   "source": [
    "df_villas = df_villas[~df_villas[\"عدد الغرف\"].isnull()]"
   ]
  },
  {
   "cell_type": "code",
   "execution_count": 307,
   "id": "e7298f28",
   "metadata": {},
   "outputs": [
    {
     "data": {
      "text/html": [
       "<div>\n",
       "<style scoped>\n",
       "    .dataframe tbody tr th:only-of-type {\n",
       "        vertical-align: middle;\n",
       "    }\n",
       "\n",
       "    .dataframe tbody tr th {\n",
       "        vertical-align: top;\n",
       "    }\n",
       "\n",
       "    .dataframe thead th {\n",
       "        text-align: right;\n",
       "    }\n",
       "</style>\n",
       "<table border=\"1\" class=\"dataframe\">\n",
       "  <thead>\n",
       "    <tr style=\"text-align: right;\">\n",
       "      <th></th>\n",
       "      <th>نوع العقار</th>\n",
       "      <th>المدينة</th>\n",
       "      <th>الحي</th>\n",
       "      <th>الواجهة</th>\n",
       "      <th>عدد الغرف</th>\n",
       "      <th>عدد الصالات</th>\n",
       "      <th>عدد الحمامات</th>\n",
       "      <th>عرض الشارع</th>\n",
       "      <th>المساحة</th>\n",
       "      <th>درج صالة</th>\n",
       "      <th>مطبخ</th>\n",
       "      <th>غرفة خادمة</th>\n",
       "      <th>غرفة سائق</th>\n",
       "      <th>ملحق</th>\n",
       "      <th>حوش</th>\n",
       "      <th>مسبح</th>\n",
       "      <th>قبو</th>\n",
       "      <th>مدخل سيارة</th>\n",
       "      <th>مصعد</th>\n",
       "      <th>السعر الاجمالي</th>\n",
       "    </tr>\n",
       "  </thead>\n",
       "  <tbody>\n",
       "    <tr>\n",
       "      <th>69</th>\n",
       "      <td>فيلا</td>\n",
       "      <td>الرياض</td>\n",
       "      <td>حي الياسمين</td>\n",
       "      <td>جنوبية</td>\n",
       "      <td>5</td>\n",
       "      <td>NaN</td>\n",
       "      <td>2</td>\n",
       "      <td>NaN</td>\n",
       "      <td>375.0</td>\n",
       "      <td>1</td>\n",
       "      <td>0</td>\n",
       "      <td>1</td>\n",
       "      <td>1</td>\n",
       "      <td>0</td>\n",
       "      <td>0</td>\n",
       "      <td>0</td>\n",
       "      <td>0</td>\n",
       "      <td>0</td>\n",
       "      <td>0</td>\n",
       "      <td>4600000</td>\n",
       "    </tr>\n",
       "    <tr>\n",
       "      <th>175</th>\n",
       "      <td>فيلا</td>\n",
       "      <td>الدرعية</td>\n",
       "      <td>العيينة</td>\n",
       "      <td>ثلاث شوارع</td>\n",
       "      <td>7+</td>\n",
       "      <td>NaN</td>\n",
       "      <td>4</td>\n",
       "      <td>NaN</td>\n",
       "      <td>565.0</td>\n",
       "      <td>1</td>\n",
       "      <td>1</td>\n",
       "      <td>0</td>\n",
       "      <td>1</td>\n",
       "      <td>1</td>\n",
       "      <td>0</td>\n",
       "      <td>0</td>\n",
       "      <td>0</td>\n",
       "      <td>1</td>\n",
       "      <td>0</td>\n",
       "      <td>2000000</td>\n",
       "    </tr>\n",
       "    <tr>\n",
       "      <th>215</th>\n",
       "      <td>فيلا</td>\n",
       "      <td>الرياض</td>\n",
       "      <td>حي الملقا</td>\n",
       "      <td>شمالية</td>\n",
       "      <td>6</td>\n",
       "      <td>NaN</td>\n",
       "      <td>5+</td>\n",
       "      <td>5.0</td>\n",
       "      <td>360.0</td>\n",
       "      <td>0</td>\n",
       "      <td>1</td>\n",
       "      <td>0</td>\n",
       "      <td>0</td>\n",
       "      <td>0</td>\n",
       "      <td>0</td>\n",
       "      <td>0</td>\n",
       "      <td>0</td>\n",
       "      <td>0</td>\n",
       "      <td>0</td>\n",
       "      <td>4700000</td>\n",
       "    </tr>\n",
       "    <tr>\n",
       "      <th>280</th>\n",
       "      <td>فيلا</td>\n",
       "      <td>الرياض</td>\n",
       "      <td>حي الملك فيصل</td>\n",
       "      <td>شمالية شرقية</td>\n",
       "      <td>7+</td>\n",
       "      <td>NaN</td>\n",
       "      <td>1</td>\n",
       "      <td>NaN</td>\n",
       "      <td>875.0</td>\n",
       "      <td>1</td>\n",
       "      <td>0</td>\n",
       "      <td>0</td>\n",
       "      <td>0</td>\n",
       "      <td>0</td>\n",
       "      <td>0</td>\n",
       "      <td>0</td>\n",
       "      <td>0</td>\n",
       "      <td>0</td>\n",
       "      <td>0</td>\n",
       "      <td>4500000</td>\n",
       "    </tr>\n",
       "    <tr>\n",
       "      <th>283</th>\n",
       "      <td>فيلا</td>\n",
       "      <td>الرياض</td>\n",
       "      <td>حي النظيم</td>\n",
       "      <td>جنوبية</td>\n",
       "      <td>1</td>\n",
       "      <td>NaN</td>\n",
       "      <td>3</td>\n",
       "      <td>NaN</td>\n",
       "      <td>500.0</td>\n",
       "      <td>0</td>\n",
       "      <td>1</td>\n",
       "      <td>0</td>\n",
       "      <td>0</td>\n",
       "      <td>0</td>\n",
       "      <td>0</td>\n",
       "      <td>0</td>\n",
       "      <td>0</td>\n",
       "      <td>0</td>\n",
       "      <td>0</td>\n",
       "      <td>1550000</td>\n",
       "    </tr>\n",
       "    <tr>\n",
       "      <th>296</th>\n",
       "      <td>فيلا</td>\n",
       "      <td>الرياض</td>\n",
       "      <td>حي الرمال</td>\n",
       "      <td>غربية</td>\n",
       "      <td>6</td>\n",
       "      <td>NaN</td>\n",
       "      <td>5+</td>\n",
       "      <td>NaN</td>\n",
       "      <td>280.0</td>\n",
       "      <td>1</td>\n",
       "      <td>0</td>\n",
       "      <td>1</td>\n",
       "      <td>0</td>\n",
       "      <td>0</td>\n",
       "      <td>0</td>\n",
       "      <td>0</td>\n",
       "      <td>0</td>\n",
       "      <td>0</td>\n",
       "      <td>0</td>\n",
       "      <td>1550000</td>\n",
       "    </tr>\n",
       "    <tr>\n",
       "      <th>321</th>\n",
       "      <td>فيلا</td>\n",
       "      <td>الرياض</td>\n",
       "      <td>حي الروضة</td>\n",
       "      <td>شرقية</td>\n",
       "      <td>1</td>\n",
       "      <td>NaN</td>\n",
       "      <td>5+</td>\n",
       "      <td>NaN</td>\n",
       "      <td>335.0</td>\n",
       "      <td>0</td>\n",
       "      <td>1</td>\n",
       "      <td>1</td>\n",
       "      <td>1</td>\n",
       "      <td>0</td>\n",
       "      <td>0</td>\n",
       "      <td>0</td>\n",
       "      <td>0</td>\n",
       "      <td>0</td>\n",
       "      <td>0</td>\n",
       "      <td>2000000</td>\n",
       "    </tr>\n",
       "    <tr>\n",
       "      <th>360</th>\n",
       "      <td>فيلا</td>\n",
       "      <td>امارة منطقة الرياض</td>\n",
       "      <td>الرياض</td>\n",
       "      <td>شرقية</td>\n",
       "      <td>3</td>\n",
       "      <td>NaN</td>\n",
       "      <td>5+</td>\n",
       "      <td>10.0</td>\n",
       "      <td>484.0</td>\n",
       "      <td>0</td>\n",
       "      <td>1</td>\n",
       "      <td>0</td>\n",
       "      <td>0</td>\n",
       "      <td>0</td>\n",
       "      <td>0</td>\n",
       "      <td>0</td>\n",
       "      <td>0</td>\n",
       "      <td>0</td>\n",
       "      <td>0</td>\n",
       "      <td>1670000</td>\n",
       "    </tr>\n",
       "    <tr>\n",
       "      <th>362</th>\n",
       "      <td>فيلا</td>\n",
       "      <td>امارة منطقة الرياض</td>\n",
       "      <td>حي القادسية</td>\n",
       "      <td>شرقية</td>\n",
       "      <td>5</td>\n",
       "      <td>NaN</td>\n",
       "      <td>4</td>\n",
       "      <td>15.0</td>\n",
       "      <td>375.0</td>\n",
       "      <td>0</td>\n",
       "      <td>1</td>\n",
       "      <td>0</td>\n",
       "      <td>0</td>\n",
       "      <td>1</td>\n",
       "      <td>1</td>\n",
       "      <td>0</td>\n",
       "      <td>0</td>\n",
       "      <td>1</td>\n",
       "      <td>0</td>\n",
       "      <td>2400000</td>\n",
       "    </tr>\n",
       "    <tr>\n",
       "      <th>398</th>\n",
       "      <td>فيلا</td>\n",
       "      <td>الرياض</td>\n",
       "      <td>حي السلام</td>\n",
       "      <td>غربية</td>\n",
       "      <td>7+</td>\n",
       "      <td>NaN</td>\n",
       "      <td>5+</td>\n",
       "      <td>15.0</td>\n",
       "      <td>500.0</td>\n",
       "      <td>0</td>\n",
       "      <td>1</td>\n",
       "      <td>1</td>\n",
       "      <td>1</td>\n",
       "      <td>1</td>\n",
       "      <td>1</td>\n",
       "      <td>0</td>\n",
       "      <td>0</td>\n",
       "      <td>1</td>\n",
       "      <td>0</td>\n",
       "      <td>1800000</td>\n",
       "    </tr>\n",
       "    <tr>\n",
       "      <th>465</th>\n",
       "      <td>فيلا</td>\n",
       "      <td>الرياض</td>\n",
       "      <td>حي ظهرة لبن</td>\n",
       "      <td>شمالية</td>\n",
       "      <td>6</td>\n",
       "      <td>NaN</td>\n",
       "      <td>3</td>\n",
       "      <td>NaN</td>\n",
       "      <td>450.0</td>\n",
       "      <td>0</td>\n",
       "      <td>0</td>\n",
       "      <td>0</td>\n",
       "      <td>0</td>\n",
       "      <td>0</td>\n",
       "      <td>0</td>\n",
       "      <td>0</td>\n",
       "      <td>0</td>\n",
       "      <td>0</td>\n",
       "      <td>0</td>\n",
       "      <td>1850000</td>\n",
       "    </tr>\n",
       "    <tr>\n",
       "      <th>491</th>\n",
       "      <td>فيلا</td>\n",
       "      <td>الرياض</td>\n",
       "      <td>حي ظهرة لبن</td>\n",
       "      <td>جنوبية</td>\n",
       "      <td>5</td>\n",
       "      <td>NaN</td>\n",
       "      <td>5+</td>\n",
       "      <td>NaN</td>\n",
       "      <td>375.0</td>\n",
       "      <td>1</td>\n",
       "      <td>1</td>\n",
       "      <td>1</td>\n",
       "      <td>0</td>\n",
       "      <td>1</td>\n",
       "      <td>1</td>\n",
       "      <td>0</td>\n",
       "      <td>0</td>\n",
       "      <td>1</td>\n",
       "      <td>1</td>\n",
       "      <td>2000000</td>\n",
       "    </tr>\n",
       "    <tr>\n",
       "      <th>518</th>\n",
       "      <td>فيلا</td>\n",
       "      <td>الرياض</td>\n",
       "      <td>حي المهدية</td>\n",
       "      <td>غربية</td>\n",
       "      <td>7+</td>\n",
       "      <td>NaN</td>\n",
       "      <td>4</td>\n",
       "      <td>20.0</td>\n",
       "      <td>836.0</td>\n",
       "      <td>1</td>\n",
       "      <td>1</td>\n",
       "      <td>0</td>\n",
       "      <td>0</td>\n",
       "      <td>1</td>\n",
       "      <td>1</td>\n",
       "      <td>0</td>\n",
       "      <td>1</td>\n",
       "      <td>1</td>\n",
       "      <td>1</td>\n",
       "      <td>3500000</td>\n",
       "    </tr>\n",
       "    <tr>\n",
       "      <th>600</th>\n",
       "      <td>فيلا</td>\n",
       "      <td>الرياض</td>\n",
       "      <td>حي المهدية</td>\n",
       "      <td>شرقية</td>\n",
       "      <td>4</td>\n",
       "      <td>NaN</td>\n",
       "      <td>1</td>\n",
       "      <td>NaN</td>\n",
       "      <td>900.0</td>\n",
       "      <td>0</td>\n",
       "      <td>0</td>\n",
       "      <td>0</td>\n",
       "      <td>0</td>\n",
       "      <td>0</td>\n",
       "      <td>0</td>\n",
       "      <td>0</td>\n",
       "      <td>0</td>\n",
       "      <td>0</td>\n",
       "      <td>0</td>\n",
       "      <td>4612500</td>\n",
       "    </tr>\n",
       "    <tr>\n",
       "      <th>618</th>\n",
       "      <td>فيلا</td>\n",
       "      <td>الرياض</td>\n",
       "      <td>حي بدر</td>\n",
       "      <td>غربية</td>\n",
       "      <td>5</td>\n",
       "      <td>NaN</td>\n",
       "      <td>5+</td>\n",
       "      <td>NaN</td>\n",
       "      <td>250.0</td>\n",
       "      <td>1</td>\n",
       "      <td>1</td>\n",
       "      <td>0</td>\n",
       "      <td>0</td>\n",
       "      <td>0</td>\n",
       "      <td>0</td>\n",
       "      <td>0</td>\n",
       "      <td>0</td>\n",
       "      <td>0</td>\n",
       "      <td>0</td>\n",
       "      <td>850000</td>\n",
       "    </tr>\n",
       "    <tr>\n",
       "      <th>640</th>\n",
       "      <td>فيلا</td>\n",
       "      <td>امارة منطقة الرياض</td>\n",
       "      <td>الرياض</td>\n",
       "      <td>شمالية شرقية</td>\n",
       "      <td>7+</td>\n",
       "      <td>NaN</td>\n",
       "      <td>4</td>\n",
       "      <td>20.0</td>\n",
       "      <td>455.0</td>\n",
       "      <td>1</td>\n",
       "      <td>1</td>\n",
       "      <td>0</td>\n",
       "      <td>0</td>\n",
       "      <td>0</td>\n",
       "      <td>0</td>\n",
       "      <td>0</td>\n",
       "      <td>0</td>\n",
       "      <td>0</td>\n",
       "      <td>0</td>\n",
       "      <td>1600000</td>\n",
       "    </tr>\n",
       "    <tr>\n",
       "      <th>760</th>\n",
       "      <td>فيلا</td>\n",
       "      <td>الرياض</td>\n",
       "      <td>حي قرطبة</td>\n",
       "      <td>جنوبية</td>\n",
       "      <td>1</td>\n",
       "      <td>NaN</td>\n",
       "      <td>3</td>\n",
       "      <td>NaN</td>\n",
       "      <td>360.0</td>\n",
       "      <td>0</td>\n",
       "      <td>1</td>\n",
       "      <td>1</td>\n",
       "      <td>1</td>\n",
       "      <td>0</td>\n",
       "      <td>0</td>\n",
       "      <td>0</td>\n",
       "      <td>0</td>\n",
       "      <td>1</td>\n",
       "      <td>0</td>\n",
       "      <td>2500000</td>\n",
       "    </tr>\n",
       "    <tr>\n",
       "      <th>959</th>\n",
       "      <td>فيلا</td>\n",
       "      <td>الرياض</td>\n",
       "      <td>حي المنار</td>\n",
       "      <td>شمالية</td>\n",
       "      <td>3</td>\n",
       "      <td>NaN</td>\n",
       "      <td>3</td>\n",
       "      <td>NaN</td>\n",
       "      <td>600.0</td>\n",
       "      <td>1</td>\n",
       "      <td>0</td>\n",
       "      <td>0</td>\n",
       "      <td>0</td>\n",
       "      <td>0</td>\n",
       "      <td>0</td>\n",
       "      <td>0</td>\n",
       "      <td>0</td>\n",
       "      <td>0</td>\n",
       "      <td>0</td>\n",
       "      <td>2750000</td>\n",
       "    </tr>\n",
       "    <tr>\n",
       "      <th>960</th>\n",
       "      <td>فيلا</td>\n",
       "      <td>الرياض</td>\n",
       "      <td>حي الجنادرية</td>\n",
       "      <td>جنوبية</td>\n",
       "      <td>7+</td>\n",
       "      <td>NaN</td>\n",
       "      <td>5+</td>\n",
       "      <td>NaN</td>\n",
       "      <td>200.0</td>\n",
       "      <td>0</td>\n",
       "      <td>1</td>\n",
       "      <td>0</td>\n",
       "      <td>0</td>\n",
       "      <td>0</td>\n",
       "      <td>0</td>\n",
       "      <td>0</td>\n",
       "      <td>0</td>\n",
       "      <td>1</td>\n",
       "      <td>1</td>\n",
       "      <td>1100000</td>\n",
       "    </tr>\n",
       "    <tr>\n",
       "      <th>1008</th>\n",
       "      <td>فيلا</td>\n",
       "      <td>الرياض</td>\n",
       "      <td>حي المونسية</td>\n",
       "      <td>غربية</td>\n",
       "      <td>4</td>\n",
       "      <td>NaN</td>\n",
       "      <td>3</td>\n",
       "      <td>20.0</td>\n",
       "      <td>252.0</td>\n",
       "      <td>0</td>\n",
       "      <td>1</td>\n",
       "      <td>0</td>\n",
       "      <td>0</td>\n",
       "      <td>0</td>\n",
       "      <td>1</td>\n",
       "      <td>0</td>\n",
       "      <td>0</td>\n",
       "      <td>0</td>\n",
       "      <td>0</td>\n",
       "      <td>1580000</td>\n",
       "    </tr>\n",
       "    <tr>\n",
       "      <th>1019</th>\n",
       "      <td>فيلا</td>\n",
       "      <td>امارة منطقة الرياض</td>\n",
       "      <td>الرياض</td>\n",
       "      <td>جنوبية</td>\n",
       "      <td>6</td>\n",
       "      <td>NaN</td>\n",
       "      <td>4</td>\n",
       "      <td>NaN</td>\n",
       "      <td>375.0</td>\n",
       "      <td>1</td>\n",
       "      <td>1</td>\n",
       "      <td>0</td>\n",
       "      <td>0</td>\n",
       "      <td>1</td>\n",
       "      <td>1</td>\n",
       "      <td>0</td>\n",
       "      <td>0</td>\n",
       "      <td>1</td>\n",
       "      <td>1</td>\n",
       "      <td>2000000</td>\n",
       "    </tr>\n",
       "  </tbody>\n",
       "</table>\n",
       "</div>"
      ],
      "text/plain": [
       "     نوع العقار              المدينة           الحي       الواجهة عدد الغرف  \\\n",
       "69         فيلا              الرياض     حي الياسمين        جنوبية         5   \n",
       "175        فيلا              الدرعية        العيينة    ثلاث شوارع        7+   \n",
       "215        فيلا              الرياض       حي الملقا        شمالية         6   \n",
       "280        فيلا              الرياض   حي الملك فيصل  شمالية شرقية        7+   \n",
       "283        فيلا              الرياض       حي النظيم        جنوبية         1   \n",
       "296        فيلا              الرياض       حي الرمال         غربية         6   \n",
       "321        فيلا              الرياض       حي الروضة         شرقية         1   \n",
       "360        فيلا   امارة منطقة الرياض         الرياض         شرقية         3   \n",
       "362        فيلا   امارة منطقة الرياض    حي القادسية         شرقية         5   \n",
       "398        فيلا              الرياض       حي السلام         غربية        7+   \n",
       "465        فيلا              الرياض     حي ظهرة لبن        شمالية         6   \n",
       "491        فيلا              الرياض     حي ظهرة لبن        جنوبية         5   \n",
       "518        فيلا              الرياض      حي المهدية         غربية        7+   \n",
       "600        فيلا              الرياض      حي المهدية         شرقية         4   \n",
       "618        فيلا              الرياض          حي بدر         غربية         5   \n",
       "640        فيلا   امارة منطقة الرياض         الرياض  شمالية شرقية        7+   \n",
       "760        فيلا              الرياض        حي قرطبة        جنوبية         1   \n",
       "959        فيلا              الرياض       حي المنار        شمالية         3   \n",
       "960        فيلا              الرياض    حي الجنادرية        جنوبية        7+   \n",
       "1008       فيلا              الرياض     حي المونسية         غربية         4   \n",
       "1019       فيلا   امارة منطقة الرياض         الرياض        جنوبية         6   \n",
       "\n",
       "     عدد الصالات عدد الحمامات  عرض الشارع  المساحة  درج صالة  مطبخ  \\\n",
       "69           NaN            2         NaN    375.0         1     0   \n",
       "175          NaN            4         NaN    565.0         1     1   \n",
       "215          NaN           5+         5.0    360.0         0     1   \n",
       "280          NaN            1         NaN    875.0         1     0   \n",
       "283          NaN            3         NaN    500.0         0     1   \n",
       "296          NaN           5+         NaN    280.0         1     0   \n",
       "321          NaN           5+         NaN    335.0         0     1   \n",
       "360          NaN           5+        10.0    484.0         0     1   \n",
       "362          NaN            4        15.0    375.0         0     1   \n",
       "398          NaN           5+        15.0    500.0         0     1   \n",
       "465          NaN            3         NaN    450.0         0     0   \n",
       "491          NaN           5+         NaN    375.0         1     1   \n",
       "518          NaN            4        20.0    836.0         1     1   \n",
       "600          NaN            1         NaN    900.0         0     0   \n",
       "618          NaN           5+         NaN    250.0         1     1   \n",
       "640          NaN            4        20.0    455.0         1     1   \n",
       "760          NaN            3         NaN    360.0         0     1   \n",
       "959          NaN            3         NaN    600.0         1     0   \n",
       "960          NaN           5+         NaN    200.0         0     1   \n",
       "1008         NaN            3        20.0    252.0         0     1   \n",
       "1019         NaN            4         NaN    375.0         1     1   \n",
       "\n",
       "      غرفة خادمة  غرفة سائق  ملحق  حوش  مسبح  قبو  مدخل سيارة  مصعد  \\\n",
       "69             1          1     0    0     0    0           0     0   \n",
       "175            0          1     1    0     0    0           1     0   \n",
       "215            0          0     0    0     0    0           0     0   \n",
       "280            0          0     0    0     0    0           0     0   \n",
       "283            0          0     0    0     0    0           0     0   \n",
       "296            1          0     0    0     0    0           0     0   \n",
       "321            1          1     0    0     0    0           0     0   \n",
       "360            0          0     0    0     0    0           0     0   \n",
       "362            0          0     1    1     0    0           1     0   \n",
       "398            1          1     1    1     0    0           1     0   \n",
       "465            0          0     0    0     0    0           0     0   \n",
       "491            1          0     1    1     0    0           1     1   \n",
       "518            0          0     1    1     0    1           1     1   \n",
       "600            0          0     0    0     0    0           0     0   \n",
       "618            0          0     0    0     0    0           0     0   \n",
       "640            0          0     0    0     0    0           0     0   \n",
       "760            1          1     0    0     0    0           1     0   \n",
       "959            0          0     0    0     0    0           0     0   \n",
       "960            0          0     0    0     0    0           1     1   \n",
       "1008           0          0     0    1     0    0           0     0   \n",
       "1019           0          0     1    1     0    0           1     1   \n",
       "\n",
       "      السعر الاجمالي  \n",
       "69           4600000  \n",
       "175          2000000  \n",
       "215          4700000  \n",
       "280          4500000  \n",
       "283          1550000  \n",
       "296          1550000  \n",
       "321          2000000  \n",
       "360          1670000  \n",
       "362          2400000  \n",
       "398          1800000  \n",
       "465          1850000  \n",
       "491          2000000  \n",
       "518          3500000  \n",
       "600          4612500  \n",
       "618           850000  \n",
       "640          1600000  \n",
       "760          2500000  \n",
       "959          2750000  \n",
       "960          1100000  \n",
       "1008         1580000  \n",
       "1019         2000000  "
      ]
     },
     "execution_count": 307,
     "metadata": {},
     "output_type": "execute_result"
    }
   ],
   "source": [
    "df_villas[df_villas[\"عدد الصالات\"].isnull()]"
   ]
  },
  {
   "cell_type": "code",
   "execution_count": 308,
   "id": "c4abb934",
   "metadata": {},
   "outputs": [],
   "source": [
    "mode = df_villas[\"عدد الصالات\"].mode()[0]"
   ]
  },
  {
   "cell_type": "code",
   "execution_count": 309,
   "id": "a328b356",
   "metadata": {},
   "outputs": [],
   "source": [
    "df_villas[\"عدد الصالات\"].fillna(mode, inplace= True)"
   ]
  },
  {
   "cell_type": "code",
   "execution_count": 312,
   "id": "94f1c20f",
   "metadata": {},
   "outputs": [
    {
     "data": {
      "text/html": [
       "<div>\n",
       "<style scoped>\n",
       "    .dataframe tbody tr th:only-of-type {\n",
       "        vertical-align: middle;\n",
       "    }\n",
       "\n",
       "    .dataframe tbody tr th {\n",
       "        vertical-align: top;\n",
       "    }\n",
       "\n",
       "    .dataframe thead th {\n",
       "        text-align: right;\n",
       "    }\n",
       "</style>\n",
       "<table border=\"1\" class=\"dataframe\">\n",
       "  <thead>\n",
       "    <tr style=\"text-align: right;\">\n",
       "      <th></th>\n",
       "      <th>نوع العقار</th>\n",
       "      <th>المدينة</th>\n",
       "      <th>الحي</th>\n",
       "      <th>الواجهة</th>\n",
       "      <th>عدد الغرف</th>\n",
       "      <th>عدد الصالات</th>\n",
       "      <th>عدد الحمامات</th>\n",
       "      <th>عرض الشارع</th>\n",
       "      <th>المساحة</th>\n",
       "      <th>درج صالة</th>\n",
       "      <th>مطبخ</th>\n",
       "      <th>غرفة خادمة</th>\n",
       "      <th>غرفة سائق</th>\n",
       "      <th>ملحق</th>\n",
       "      <th>حوش</th>\n",
       "      <th>مسبح</th>\n",
       "      <th>قبو</th>\n",
       "      <th>مدخل سيارة</th>\n",
       "      <th>مصعد</th>\n",
       "      <th>السعر الاجمالي</th>\n",
       "    </tr>\n",
       "  </thead>\n",
       "  <tbody>\n",
       "    <tr>\n",
       "      <th>0</th>\n",
       "      <td>فيلا</td>\n",
       "      <td>الرياض</td>\n",
       "      <td>حي العارض</td>\n",
       "      <td>جنوبية</td>\n",
       "      <td>6</td>\n",
       "      <td>3</td>\n",
       "      <td>5+</td>\n",
       "      <td>NaN</td>\n",
       "      <td>244.0</td>\n",
       "      <td>1</td>\n",
       "      <td>1</td>\n",
       "      <td>1</td>\n",
       "      <td>1</td>\n",
       "      <td>0</td>\n",
       "      <td>1</td>\n",
       "      <td>0</td>\n",
       "      <td>0</td>\n",
       "      <td>1</td>\n",
       "      <td>1</td>\n",
       "      <td>2300000</td>\n",
       "    </tr>\n",
       "    <tr>\n",
       "      <th>1</th>\n",
       "      <td>فيلا</td>\n",
       "      <td>الرياض</td>\n",
       "      <td>حي العارض</td>\n",
       "      <td>جنوبية</td>\n",
       "      <td>6</td>\n",
       "      <td>4</td>\n",
       "      <td>5+</td>\n",
       "      <td>NaN</td>\n",
       "      <td>322.0</td>\n",
       "      <td>1</td>\n",
       "      <td>1</td>\n",
       "      <td>1</td>\n",
       "      <td>1</td>\n",
       "      <td>1</td>\n",
       "      <td>1</td>\n",
       "      <td>0</td>\n",
       "      <td>0</td>\n",
       "      <td>1</td>\n",
       "      <td>1</td>\n",
       "      <td>3000000</td>\n",
       "    </tr>\n",
       "    <tr>\n",
       "      <th>2</th>\n",
       "      <td>فيلا</td>\n",
       "      <td>الرياض</td>\n",
       "      <td>حي العارض</td>\n",
       "      <td>جنوبية</td>\n",
       "      <td>3</td>\n",
       "      <td>2</td>\n",
       "      <td>5+</td>\n",
       "      <td>NaN</td>\n",
       "      <td>350.0</td>\n",
       "      <td>1</td>\n",
       "      <td>0</td>\n",
       "      <td>1</td>\n",
       "      <td>0</td>\n",
       "      <td>1</td>\n",
       "      <td>0</td>\n",
       "      <td>0</td>\n",
       "      <td>1</td>\n",
       "      <td>1</td>\n",
       "      <td>1</td>\n",
       "      <td>2600000</td>\n",
       "    </tr>\n",
       "    <tr>\n",
       "      <th>3</th>\n",
       "      <td>فيلا</td>\n",
       "      <td>الرياض</td>\n",
       "      <td>حي النرجس</td>\n",
       "      <td>جنوبية</td>\n",
       "      <td>4</td>\n",
       "      <td>4</td>\n",
       "      <td>4</td>\n",
       "      <td>NaN</td>\n",
       "      <td>350.0</td>\n",
       "      <td>1</td>\n",
       "      <td>1</td>\n",
       "      <td>1</td>\n",
       "      <td>0</td>\n",
       "      <td>0</td>\n",
       "      <td>1</td>\n",
       "      <td>0</td>\n",
       "      <td>1</td>\n",
       "      <td>1</td>\n",
       "      <td>1</td>\n",
       "      <td>2600000</td>\n",
       "    </tr>\n",
       "    <tr>\n",
       "      <th>4</th>\n",
       "      <td>فيلا</td>\n",
       "      <td>الرياض</td>\n",
       "      <td>حي العارض</td>\n",
       "      <td>غربية</td>\n",
       "      <td>4</td>\n",
       "      <td>1</td>\n",
       "      <td>5+</td>\n",
       "      <td>NaN</td>\n",
       "      <td>270.0</td>\n",
       "      <td>1</td>\n",
       "      <td>1</td>\n",
       "      <td>1</td>\n",
       "      <td>1</td>\n",
       "      <td>0</td>\n",
       "      <td>0</td>\n",
       "      <td>0</td>\n",
       "      <td>0</td>\n",
       "      <td>1</td>\n",
       "      <td>0</td>\n",
       "      <td>2800000</td>\n",
       "    </tr>\n",
       "    <tr>\n",
       "      <th>5</th>\n",
       "      <td>فيلا</td>\n",
       "      <td>الرياض</td>\n",
       "      <td>حي النرجس</td>\n",
       "      <td>شمالية</td>\n",
       "      <td>7+</td>\n",
       "      <td>4</td>\n",
       "      <td>5+</td>\n",
       "      <td>NaN</td>\n",
       "      <td>360.0</td>\n",
       "      <td>1</td>\n",
       "      <td>1</td>\n",
       "      <td>1</td>\n",
       "      <td>1</td>\n",
       "      <td>1</td>\n",
       "      <td>1</td>\n",
       "      <td>0</td>\n",
       "      <td>0</td>\n",
       "      <td>1</td>\n",
       "      <td>0</td>\n",
       "      <td>3500000</td>\n",
       "    </tr>\n",
       "    <tr>\n",
       "      <th>6</th>\n",
       "      <td>فيلا</td>\n",
       "      <td>الرياض</td>\n",
       "      <td>حي الملقا</td>\n",
       "      <td>شرقية</td>\n",
       "      <td>3</td>\n",
       "      <td>3</td>\n",
       "      <td>3</td>\n",
       "      <td>NaN</td>\n",
       "      <td>437.0</td>\n",
       "      <td>0</td>\n",
       "      <td>1</td>\n",
       "      <td>1</td>\n",
       "      <td>1</td>\n",
       "      <td>0</td>\n",
       "      <td>0</td>\n",
       "      <td>0</td>\n",
       "      <td>0</td>\n",
       "      <td>1</td>\n",
       "      <td>0</td>\n",
       "      <td>4500000</td>\n",
       "    </tr>\n",
       "    <tr>\n",
       "      <th>7</th>\n",
       "      <td>فيلا</td>\n",
       "      <td>الرياض</td>\n",
       "      <td>حي الملقا</td>\n",
       "      <td>شمالية</td>\n",
       "      <td>5</td>\n",
       "      <td>1</td>\n",
       "      <td>5+</td>\n",
       "      <td>NaN</td>\n",
       "      <td>252.0</td>\n",
       "      <td>1</td>\n",
       "      <td>1</td>\n",
       "      <td>1</td>\n",
       "      <td>1</td>\n",
       "      <td>0</td>\n",
       "      <td>0</td>\n",
       "      <td>0</td>\n",
       "      <td>0</td>\n",
       "      <td>1</td>\n",
       "      <td>1</td>\n",
       "      <td>2800000</td>\n",
       "    </tr>\n",
       "    <tr>\n",
       "      <th>8</th>\n",
       "      <td>فيلا</td>\n",
       "      <td>الرياض</td>\n",
       "      <td>حي النخيل</td>\n",
       "      <td>شمالية غربية</td>\n",
       "      <td>6</td>\n",
       "      <td>3</td>\n",
       "      <td>5+</td>\n",
       "      <td>NaN</td>\n",
       "      <td>1200.0</td>\n",
       "      <td>1</td>\n",
       "      <td>1</td>\n",
       "      <td>1</td>\n",
       "      <td>1</td>\n",
       "      <td>1</td>\n",
       "      <td>1</td>\n",
       "      <td>1</td>\n",
       "      <td>1</td>\n",
       "      <td>1</td>\n",
       "      <td>1</td>\n",
       "      <td>17000000</td>\n",
       "    </tr>\n",
       "    <tr>\n",
       "      <th>9</th>\n",
       "      <td>فيلا</td>\n",
       "      <td>الرياض</td>\n",
       "      <td>حي الملقا</td>\n",
       "      <td>شرقية</td>\n",
       "      <td>4</td>\n",
       "      <td>3</td>\n",
       "      <td>5+</td>\n",
       "      <td>NaN</td>\n",
       "      <td>270.0</td>\n",
       "      <td>1</td>\n",
       "      <td>1</td>\n",
       "      <td>1</td>\n",
       "      <td>1</td>\n",
       "      <td>0</td>\n",
       "      <td>1</td>\n",
       "      <td>0</td>\n",
       "      <td>0</td>\n",
       "      <td>1</td>\n",
       "      <td>1</td>\n",
       "      <td>3600000</td>\n",
       "    </tr>\n",
       "  </tbody>\n",
       "</table>\n",
       "</div>"
      ],
      "text/plain": [
       "  نوع العقار   المدينة       الحي       الواجهة عدد الغرف عدد الصالات  \\\n",
       "0       فيلا   الرياض   حي العارض        جنوبية         6           3   \n",
       "1       فيلا   الرياض   حي العارض        جنوبية         6           4   \n",
       "2       فيلا   الرياض   حي العارض        جنوبية         3           2   \n",
       "3       فيلا   الرياض   حي النرجس        جنوبية         4           4   \n",
       "4       فيلا   الرياض   حي العارض         غربية         4           1   \n",
       "5       فيلا   الرياض   حي النرجس        شمالية        7+           4   \n",
       "6       فيلا   الرياض   حي الملقا         شرقية         3           3   \n",
       "7       فيلا   الرياض   حي الملقا        شمالية         5           1   \n",
       "8       فيلا   الرياض   حي النخيل  شمالية غربية         6           3   \n",
       "9       فيلا   الرياض   حي الملقا         شرقية         4           3   \n",
       "\n",
       "  عدد الحمامات  عرض الشارع  المساحة  درج صالة  مطبخ  غرفة خادمة  غرفة سائق  \\\n",
       "0           5+         NaN    244.0         1     1           1          1   \n",
       "1           5+         NaN    322.0         1     1           1          1   \n",
       "2           5+         NaN    350.0         1     0           1          0   \n",
       "3            4         NaN    350.0         1     1           1          0   \n",
       "4           5+         NaN    270.0         1     1           1          1   \n",
       "5           5+         NaN    360.0         1     1           1          1   \n",
       "6            3         NaN    437.0         0     1           1          1   \n",
       "7           5+         NaN    252.0         1     1           1          1   \n",
       "8           5+         NaN   1200.0         1     1           1          1   \n",
       "9           5+         NaN    270.0         1     1           1          1   \n",
       "\n",
       "   ملحق  حوش  مسبح  قبو  مدخل سيارة  مصعد  السعر الاجمالي  \n",
       "0     0    1     0    0           1     1         2300000  \n",
       "1     1    1     0    0           1     1         3000000  \n",
       "2     1    0     0    1           1     1         2600000  \n",
       "3     0    1     0    1           1     1         2600000  \n",
       "4     0    0     0    0           1     0         2800000  \n",
       "5     1    1     0    0           1     0         3500000  \n",
       "6     0    0     0    0           1     0         4500000  \n",
       "7     0    0     0    0           1     1         2800000  \n",
       "8     1    1     1    1           1     1        17000000  \n",
       "9     0    1     0    0           1     1         3600000  "
      ]
     },
     "execution_count": 312,
     "metadata": {},
     "output_type": "execute_result"
    }
   ],
   "source": [
    "df_villas[df_villas[\"عرض الشارع\"].isnull()].head(10)"
   ]
  },
  {
   "cell_type": "code",
   "execution_count": 315,
   "id": "b33ec5fe",
   "metadata": {},
   "outputs": [],
   "source": [
    "df_villas[\"عرض الشارع\"].fillna(-1, inplace=True)"
   ]
  },
  {
   "cell_type": "code",
   "execution_count": 316,
   "id": "c801ddf7",
   "metadata": {},
   "outputs": [
    {
     "data": {
      "text/plain": [
       "نوع العقار        0\n",
       "المدينة           0\n",
       "الحي              0\n",
       "الواجهة           0\n",
       "عدد الغرف         0\n",
       "عدد الصالات       0\n",
       "عدد الحمامات      0\n",
       "عرض الشارع        0\n",
       "المساحة           0\n",
       "درج صالة          0\n",
       "مطبخ              0\n",
       "غرفة خادمة        0\n",
       "غرفة سائق         0\n",
       "ملحق              0\n",
       "حوش               0\n",
       "مسبح              0\n",
       "قبو               0\n",
       "مدخل سيارة        0\n",
       "مصعد              0\n",
       "السعر الاجمالي    0\n",
       "dtype: int64"
      ]
     },
     "execution_count": 316,
     "metadata": {},
     "output_type": "execute_result"
    }
   ],
   "source": [
    "df_villas.isnull().sum()"
   ]
  },
  {
   "cell_type": "code",
   "execution_count": 68,
   "id": "abec31c4-0904-4b73-8cee-b7bc14ab1e67",
   "metadata": {},
   "outputs": [],
   "source": [
    "# go to clean them "
   ]
  },
  {
   "cell_type": "markdown",
   "id": "b40de63c-5a1d-49ed-a87e-c5229ee08bbe",
   "metadata": {},
   "source": [
    "#### 7. Check Accuracy:\n",
    "\n",
    "Verify that the data is correct and precise. This could involve comparing data samples with known sources or using validation rules.\n",
    "\n",
    "**The process includes:**\n",
    "1. Validating the appropriateness of data types for the dataset.\n",
    "2. Identifying outliers  using established validation  rule"
   ]
  },
  {
   "cell_type": "code",
   "execution_count": 317,
   "id": "68be5334-ae10-4abd-8097-3259fe5e72c8",
   "metadata": {},
   "outputs": [
    {
     "data": {
      "text/plain": [
       "نوع العقار         object\n",
       "المدينة            object\n",
       "الحي               object\n",
       "الواجهة            object\n",
       "عدد الغرف           int64\n",
       "عدد الصالات       float64\n",
       "عدد الحمامات       object\n",
       "المساحة             int64\n",
       "مطبخ                int64\n",
       "مدخل سيارة          int64\n",
       "مصعد                int64\n",
       "الدور              object\n",
       "عمر العقار        float64\n",
       "مؤثثة               int64\n",
       "السعر الاجمالي      int64\n",
       "dtype: object"
      ]
     },
     "execution_count": 317,
     "metadata": {},
     "output_type": "execute_result"
    }
   ],
   "source": [
    "# check columns types\n",
    "df_apart.dtypes"
   ]
  },
  {
   "cell_type": "code",
   "execution_count": 325,
   "id": "601eb324",
   "metadata": {},
   "outputs": [
    {
     "name": "stderr",
     "output_type": "stream",
     "text": [
      "C:\\Users\\mmm19\\AppData\\Local\\Temp\\ipykernel_17504\\1757743907.py:1: SettingWithCopyWarning:\n",
      "\n",
      "\n",
      "A value is trying to be set on a copy of a slice from a DataFrame.\n",
      "Try using .loc[row_indexer,col_indexer] = value instead\n",
      "\n",
      "See the caveats in the documentation: https://pandas.pydata.org/pandas-docs/stable/user_guide/indexing.html#returning-a-view-versus-a-copy\n",
      "\n"
     ]
    }
   ],
   "source": [
    "df_apart[[\"مطبخ\", \"مدخل سيارة\", \"مصعد\", \"مؤثثة\"]] = df_apart[[\"مطبخ\", \"مدخل سيارة\", \"مصعد\", \"مؤثثة\"]].astype(bool)"
   ]
  },
  {
   "cell_type": "code",
   "execution_count": 319,
   "id": "dec53820",
   "metadata": {},
   "outputs": [
    {
     "data": {
      "text/plain": [
       "نوع العقار         object\n",
       "الغرض              object\n",
       "المدينة            object\n",
       "الحي               object\n",
       "الواجهة            object\n",
       "المساحة             int64\n",
       "سعر المتر         float64\n",
       "السعر الإجمالي      int64\n",
       "dtype: object"
      ]
     },
     "execution_count": 319,
     "metadata": {},
     "output_type": "execute_result"
    }
   ],
   "source": [
    "df_land.dtypes"
   ]
  },
  {
   "cell_type": "code",
   "execution_count": 321,
   "id": "e90db685",
   "metadata": {},
   "outputs": [
    {
     "data": {
      "text/plain": [
       "نوع العقار         object\n",
       "المدينة            object\n",
       "الحي               object\n",
       "الواجهة            object\n",
       "عدد الغرف          object\n",
       "عدد الصالات        object\n",
       "عدد الحمامات       object\n",
       "عرض الشارع        float64\n",
       "المساحة           float64\n",
       "درج صالة            int64\n",
       "مطبخ                int64\n",
       "غرفة خادمة          int64\n",
       "غرفة سائق           int64\n",
       "ملحق                int64\n",
       "حوش                 int64\n",
       "مسبح                int64\n",
       "قبو                 int64\n",
       "مدخل سيارة          int64\n",
       "مصعد                int64\n",
       "السعر الاجمالي      int64\n",
       "dtype: object"
      ]
     },
     "execution_count": 321,
     "metadata": {},
     "output_type": "execute_result"
    }
   ],
   "source": [
    "df_villas.dtypes"
   ]
  },
  {
   "cell_type": "code",
   "execution_count": 326,
   "id": "fbd82268",
   "metadata": {},
   "outputs": [],
   "source": [
    "df_villas[[\"مطبخ\", \"مدخل سيارة\", \"مصعد\", \"درج صالة\", \"غرفة خادمة\", \"غرفة سائق\" , \"ملحق\", \"حوش\", \"مسبح\", \"قبو\"]] = df_villas[[\"مطبخ\", \"مدخل سيارة\", \"مصعد\", \"درج صالة\", \"غرفة خادمة\", \"غرفة سائق\" , \"ملحق\", \"حوش\", \"مسبح\", \"قبو\"]].astype(bool)"
   ]
  },
  {
   "cell_type": "code",
   "execution_count": 327,
   "id": "af73a581",
   "metadata": {},
   "outputs": [
    {
     "name": "stderr",
     "output_type": "stream",
     "text": [
      "C:\\Users\\mmm19\\AppData\\Local\\Temp\\ipykernel_17504\\2678834281.py:1: SettingWithCopyWarning:\n",
      "\n",
      "\n",
      "A value is trying to be set on a copy of a slice from a DataFrame\n",
      "\n",
      "See the caveats in the documentation: https://pandas.pydata.org/pandas-docs/stable/user_guide/indexing.html#returning-a-view-versus-a-copy\n",
      "\n"
     ]
    }
   ],
   "source": [
    "df_apart[\"الواجهة\"].replace(\"nan\", \"مجهول\", inplace=True)"
   ]
  },
  {
   "cell_type": "code",
   "execution_count": 328,
   "id": "2ee790ba-dcc0-45f1-b6f8-0133e913e149",
   "metadata": {
    "scrolled": true
   },
   "outputs": [
    {
     "name": "stderr",
     "output_type": "stream",
     "text": [
      "C:\\Users\\mmm19\\anaconda3\\lib\\site-packages\\dtale\\views.py:816: FutureWarning:\n",
      "\n",
      "['عدد الحمامات', 'الدور'] did not aggregate successfully. If any error is raised this will raise in a future version of pandas. Drop these columns/ops to avoid this warning.\n",
      "\n"
     ]
    },
    {
     "data": {
      "text/html": [
       "\n",
       "        <iframe\n",
       "            width=\"100%\"\n",
       "            height=\"475\"\n",
       "            src=\"http://DESKTOP-A60UPUK:40000/dtale/iframe/11\"\n",
       "            frameborder=\"0\"\n",
       "            allowfullscreen\n",
       "            \n",
       "        ></iframe>\n",
       "        "
      ],
      "text/plain": [
       "<IPython.lib.display.IFrame at 0x219e994a0a0>"
      ]
     },
     "metadata": {},
     "output_type": "display_data"
    },
    {
     "data": {
      "text/plain": []
     },
     "execution_count": 328,
     "metadata": {},
     "output_type": "execute_result"
    },
    {
     "name": "stderr",
     "output_type": "stream",
     "text": [
      "2024-10-25 20:59:37,823 - ERROR    - Exception occurred while processing request: object of type 'NoneType' has no len()\n",
      "Traceback (most recent call last):\n",
      "  File \"C:\\Users\\mmm19\\anaconda3\\lib\\site-packages\\dtale\\views.py\", line 120, in _handle_exceptions\n",
      "    return func(*args, **kwargs)\n",
      "  File \"C:\\Users\\mmm19\\anaconda3\\lib\\site-packages\\dtale\\views.py\", line 1587, in get_processes\n",
      "    [_load_process(data_id) for data_id in global_state.keys()],\n",
      "  File \"C:\\Users\\mmm19\\anaconda3\\lib\\site-packages\\dtale\\views.py\", line 1587, in <listcomp>\n",
      "    [_load_process(data_id) for data_id in global_state.keys()],\n",
      "  File \"C:\\Users\\mmm19\\anaconda3\\lib\\site-packages\\dtale\\views.py\", line 1572, in _load_process\n",
      "    rows=len(data),\n",
      "TypeError: object of type 'NoneType' has no len()\n"
     ]
    }
   ],
   "source": [
    "# go to clean them \n",
    "dtale.show(df_apart)"
   ]
  },
  {
   "cell_type": "code",
   "execution_count": 336,
   "id": "9c6e80cf",
   "metadata": {},
   "outputs": [
    {
     "data": {
      "text/plain": [
       "(array([143., 164.,  67.,  27.,   4.,   1.,   2.,   1.,   0.,   2.]),\n",
       " array([ 700000.,  980000., 1260000., 1540000., 1820000., 2100000.,\n",
       "        2380000., 2660000., 2940000., 3220000., 3500000.]),\n",
       " <BarContainer object of 10 artists>)"
      ]
     },
     "execution_count": 336,
     "metadata": {},
     "output_type": "execute_result"
    },
    {
     "data": {
      "image/png": "[encoded data removed]",
      "text/plain": [
       "<Figure size 640x480 with 1 Axes>"
      ]
     },
     "metadata": {},
     "output_type": "display_data"
    }
   ],
   "source": [
    "plt.hist(df_apart[\"السعر الاجمالي\"])"
   ]
  },
  {
   "cell_type": "code",
   "execution_count": 329,
   "id": "c69b303a-5459-45f9-a28e-fcee45c21c05",
   "metadata": {
    "scrolled": true
   },
   "outputs": [
    {
     "name": "stderr",
     "output_type": "stream",
     "text": [
      "C:\\Users\\mmm19\\anaconda3\\lib\\site-packages\\dtale\\views.py:816: FutureWarning:\n",
      "\n",
      "['عدد الغرف', 'عدد الصالات', 'عدد الحمامات'] did not aggregate successfully. If any error is raised this will raise in a future version of pandas. Drop these columns/ops to avoid this warning.\n",
      "\n"
     ]
    },
    {
     "data": {
      "text/html": [
       "\n",
       "        <iframe\n",
       "            width=\"100%\"\n",
       "            height=\"475\"\n",
       "            src=\"http://DESKTOP-A60UPUK:40000/dtale/iframe/12\"\n",
       "            frameborder=\"0\"\n",
       "            allowfullscreen\n",
       "            \n",
       "        ></iframe>\n",
       "        "
      ],
      "text/plain": [
       "<IPython.lib.display.IFrame at 0x219f368aa30>"
      ]
     },
     "metadata": {},
     "output_type": "display_data"
    },
    {
     "data": {
      "text/plain": []
     },
     "execution_count": 329,
     "metadata": {},
     "output_type": "execute_result"
    },
    {
     "name": "stderr",
     "output_type": "stream",
     "text": [
      "2024-10-25 21:00:03,964 - ERROR    - Exception occurred while processing request: object of type 'NoneType' has no len()\n",
      "Traceback (most recent call last):\n",
      "  File \"C:\\Users\\mmm19\\anaconda3\\lib\\site-packages\\dtale\\views.py\", line 120, in _handle_exceptions\n",
      "    return func(*args, **kwargs)\n",
      "  File \"C:\\Users\\mmm19\\anaconda3\\lib\\site-packages\\dtale\\views.py\", line 1587, in get_processes\n",
      "    [_load_process(data_id) for data_id in global_state.keys()],\n",
      "  File \"C:\\Users\\mmm19\\anaconda3\\lib\\site-packages\\dtale\\views.py\", line 1587, in <listcomp>\n",
      "    [_load_process(data_id) for data_id in global_state.keys()],\n",
      "  File \"C:\\Users\\mmm19\\anaconda3\\lib\\site-packages\\dtale\\views.py\", line 1572, in _load_process\n",
      "    rows=len(data),\n",
      "TypeError: object of type 'NoneType' has no len()\n"
     ]
    }
   ],
   "source": [
    "dtale.show(df_villas)"
   ]
  },
  {
   "cell_type": "code",
   "execution_count": 333,
   "id": "fce1cb14",
   "metadata": {
    "scrolled": true
   },
   "outputs": [
    {
     "data": {
      "text/html": [
       "<div>\n",
       "<style scoped>\n",
       "    .dataframe tbody tr th:only-of-type {\n",
       "        vertical-align: middle;\n",
       "    }\n",
       "\n",
       "    .dataframe tbody tr th {\n",
       "        vertical-align: top;\n",
       "    }\n",
       "\n",
       "    .dataframe thead th {\n",
       "        text-align: right;\n",
       "    }\n",
       "</style>\n",
       "<table border=\"1\" class=\"dataframe\">\n",
       "  <thead>\n",
       "    <tr style=\"text-align: right;\">\n",
       "      <th></th>\n",
       "      <th>نوع العقار</th>\n",
       "      <th>المدينة</th>\n",
       "      <th>الحي</th>\n",
       "      <th>الواجهة</th>\n",
       "      <th>عدد الغرف</th>\n",
       "      <th>عدد الصالات</th>\n",
       "      <th>عدد الحمامات</th>\n",
       "      <th>عرض الشارع</th>\n",
       "      <th>المساحة</th>\n",
       "      <th>درج صالة</th>\n",
       "      <th>مطبخ</th>\n",
       "      <th>غرفة خادمة</th>\n",
       "      <th>غرفة سائق</th>\n",
       "      <th>ملحق</th>\n",
       "      <th>حوش</th>\n",
       "      <th>مسبح</th>\n",
       "      <th>قبو</th>\n",
       "      <th>مدخل سيارة</th>\n",
       "      <th>مصعد</th>\n",
       "      <th>السعر الاجمالي</th>\n",
       "    </tr>\n",
       "  </thead>\n",
       "  <tbody>\n",
       "    <tr>\n",
       "      <th>8</th>\n",
       "      <td>فيلا</td>\n",
       "      <td>الرياض</td>\n",
       "      <td>حي النخيل</td>\n",
       "      <td>شمالية غربية</td>\n",
       "      <td>6</td>\n",
       "      <td>3</td>\n",
       "      <td>5+</td>\n",
       "      <td>-1.0</td>\n",
       "      <td>1200.0</td>\n",
       "      <td>True</td>\n",
       "      <td>True</td>\n",
       "      <td>True</td>\n",
       "      <td>True</td>\n",
       "      <td>True</td>\n",
       "      <td>True</td>\n",
       "      <td>True</td>\n",
       "      <td>True</td>\n",
       "      <td>True</td>\n",
       "      <td>True</td>\n",
       "      <td>17000000</td>\n",
       "    </tr>\n",
       "    <tr>\n",
       "      <th>24</th>\n",
       "      <td>فيلا</td>\n",
       "      <td>الرياض</td>\n",
       "      <td>حي الملقا</td>\n",
       "      <td>شمالية غربية</td>\n",
       "      <td>7+</td>\n",
       "      <td>3</td>\n",
       "      <td>5+</td>\n",
       "      <td>-1.0</td>\n",
       "      <td>1200.0</td>\n",
       "      <td>True</td>\n",
       "      <td>True</td>\n",
       "      <td>True</td>\n",
       "      <td>True</td>\n",
       "      <td>True</td>\n",
       "      <td>True</td>\n",
       "      <td>True</td>\n",
       "      <td>False</td>\n",
       "      <td>True</td>\n",
       "      <td>True</td>\n",
       "      <td>18000000</td>\n",
       "    </tr>\n",
       "    <tr>\n",
       "      <th>30</th>\n",
       "      <td>فيلا</td>\n",
       "      <td>الرياض</td>\n",
       "      <td>حي الملقا</td>\n",
       "      <td>شمالية غربية</td>\n",
       "      <td>5</td>\n",
       "      <td>4</td>\n",
       "      <td>5+</td>\n",
       "      <td>-1.0</td>\n",
       "      <td>620.0</td>\n",
       "      <td>True</td>\n",
       "      <td>True</td>\n",
       "      <td>True</td>\n",
       "      <td>True</td>\n",
       "      <td>True</td>\n",
       "      <td>True</td>\n",
       "      <td>True</td>\n",
       "      <td>False</td>\n",
       "      <td>True</td>\n",
       "      <td>True</td>\n",
       "      <td>10000000</td>\n",
       "    </tr>\n",
       "    <tr>\n",
       "      <th>31</th>\n",
       "      <td>فيلا</td>\n",
       "      <td>الرياض</td>\n",
       "      <td>حي الملقا</td>\n",
       "      <td>غربية</td>\n",
       "      <td>7+</td>\n",
       "      <td>3</td>\n",
       "      <td>5+</td>\n",
       "      <td>-1.0</td>\n",
       "      <td>800.0</td>\n",
       "      <td>True</td>\n",
       "      <td>True</td>\n",
       "      <td>True</td>\n",
       "      <td>True</td>\n",
       "      <td>True</td>\n",
       "      <td>True</td>\n",
       "      <td>True</td>\n",
       "      <td>False</td>\n",
       "      <td>True</td>\n",
       "      <td>False</td>\n",
       "      <td>10000000</td>\n",
       "    </tr>\n",
       "    <tr>\n",
       "      <th>41</th>\n",
       "      <td>فيلا</td>\n",
       "      <td>الرياض</td>\n",
       "      <td>حي الملقا</td>\n",
       "      <td>شرقية</td>\n",
       "      <td>7+</td>\n",
       "      <td>4</td>\n",
       "      <td>5+</td>\n",
       "      <td>-1.0</td>\n",
       "      <td>1750.0</td>\n",
       "      <td>True</td>\n",
       "      <td>False</td>\n",
       "      <td>True</td>\n",
       "      <td>True</td>\n",
       "      <td>True</td>\n",
       "      <td>True</td>\n",
       "      <td>False</td>\n",
       "      <td>False</td>\n",
       "      <td>True</td>\n",
       "      <td>True</td>\n",
       "      <td>22500000</td>\n",
       "    </tr>\n",
       "    <tr>\n",
       "      <th>63</th>\n",
       "      <td>فيلا</td>\n",
       "      <td>الرياض</td>\n",
       "      <td>حي النزهة</td>\n",
       "      <td>ثلاث شوارع</td>\n",
       "      <td>7+</td>\n",
       "      <td>4</td>\n",
       "      <td>5+</td>\n",
       "      <td>-1.0</td>\n",
       "      <td>2450.0</td>\n",
       "      <td>True</td>\n",
       "      <td>True</td>\n",
       "      <td>True</td>\n",
       "      <td>True</td>\n",
       "      <td>True</td>\n",
       "      <td>True</td>\n",
       "      <td>True</td>\n",
       "      <td>True</td>\n",
       "      <td>True</td>\n",
       "      <td>False</td>\n",
       "      <td>18000000</td>\n",
       "    </tr>\n",
       "    <tr>\n",
       "      <th>122</th>\n",
       "      <td>فيلا</td>\n",
       "      <td>الرياض</td>\n",
       "      <td>حي الندى</td>\n",
       "      <td>غربية</td>\n",
       "      <td>7+</td>\n",
       "      <td>4</td>\n",
       "      <td>5+</td>\n",
       "      <td>-1.0</td>\n",
       "      <td>2500.0</td>\n",
       "      <td>False</td>\n",
       "      <td>True</td>\n",
       "      <td>False</td>\n",
       "      <td>False</td>\n",
       "      <td>False</td>\n",
       "      <td>False</td>\n",
       "      <td>False</td>\n",
       "      <td>False</td>\n",
       "      <td>True</td>\n",
       "      <td>False</td>\n",
       "      <td>16700000</td>\n",
       "    </tr>\n",
       "    <tr>\n",
       "      <th>193</th>\n",
       "      <td>فيلا</td>\n",
       "      <td>الرياض</td>\n",
       "      <td>حي النرجس</td>\n",
       "      <td>شمالية</td>\n",
       "      <td>5</td>\n",
       "      <td>3</td>\n",
       "      <td>5+</td>\n",
       "      <td>25.0</td>\n",
       "      <td>813.0</td>\n",
       "      <td>True</td>\n",
       "      <td>True</td>\n",
       "      <td>True</td>\n",
       "      <td>True</td>\n",
       "      <td>True</td>\n",
       "      <td>True</td>\n",
       "      <td>True</td>\n",
       "      <td>False</td>\n",
       "      <td>True</td>\n",
       "      <td>True</td>\n",
       "      <td>14000000</td>\n",
       "    </tr>\n",
       "    <tr>\n",
       "      <th>209</th>\n",
       "      <td>فيلا</td>\n",
       "      <td>الرياض</td>\n",
       "      <td>حي الياسمين</td>\n",
       "      <td>شمالية شرقية</td>\n",
       "      <td>7+</td>\n",
       "      <td>3</td>\n",
       "      <td>5+</td>\n",
       "      <td>15.0</td>\n",
       "      <td>1107.0</td>\n",
       "      <td>True</td>\n",
       "      <td>True</td>\n",
       "      <td>True</td>\n",
       "      <td>True</td>\n",
       "      <td>True</td>\n",
       "      <td>True</td>\n",
       "      <td>False</td>\n",
       "      <td>True</td>\n",
       "      <td>True</td>\n",
       "      <td>True</td>\n",
       "      <td>10300000</td>\n",
       "    </tr>\n",
       "    <tr>\n",
       "      <th>248</th>\n",
       "      <td>فيلا</td>\n",
       "      <td>الرياض</td>\n",
       "      <td>حي النخيل</td>\n",
       "      <td>جنوبية شرقية</td>\n",
       "      <td>7+</td>\n",
       "      <td>2</td>\n",
       "      <td>5+</td>\n",
       "      <td>30.0</td>\n",
       "      <td>1825.0</td>\n",
       "      <td>True</td>\n",
       "      <td>True</td>\n",
       "      <td>True</td>\n",
       "      <td>True</td>\n",
       "      <td>True</td>\n",
       "      <td>True</td>\n",
       "      <td>True</td>\n",
       "      <td>True</td>\n",
       "      <td>True</td>\n",
       "      <td>False</td>\n",
       "      <td>20000000</td>\n",
       "    </tr>\n",
       "    <tr>\n",
       "      <th>324</th>\n",
       "      <td>فيلا</td>\n",
       "      <td>الرياض</td>\n",
       "      <td>حي قرطبة</td>\n",
       "      <td>غربية</td>\n",
       "      <td>7+</td>\n",
       "      <td>4</td>\n",
       "      <td>5+</td>\n",
       "      <td>-1.0</td>\n",
       "      <td>2500.0</td>\n",
       "      <td>True</td>\n",
       "      <td>True</td>\n",
       "      <td>True</td>\n",
       "      <td>True</td>\n",
       "      <td>True</td>\n",
       "      <td>True</td>\n",
       "      <td>False</td>\n",
       "      <td>False</td>\n",
       "      <td>True</td>\n",
       "      <td>False</td>\n",
       "      <td>16700000</td>\n",
       "    </tr>\n",
       "    <tr>\n",
       "      <th>349</th>\n",
       "      <td>فيلا</td>\n",
       "      <td>الرياض</td>\n",
       "      <td>حي الحمراء</td>\n",
       "      <td>غربية</td>\n",
       "      <td>7+</td>\n",
       "      <td>2</td>\n",
       "      <td>5+</td>\n",
       "      <td>-1.0</td>\n",
       "      <td>2500.0</td>\n",
       "      <td>True</td>\n",
       "      <td>True</td>\n",
       "      <td>True</td>\n",
       "      <td>True</td>\n",
       "      <td>True</td>\n",
       "      <td>True</td>\n",
       "      <td>False</td>\n",
       "      <td>False</td>\n",
       "      <td>True</td>\n",
       "      <td>False</td>\n",
       "      <td>16700000</td>\n",
       "    </tr>\n",
       "  </tbody>\n",
       "</table>\n",
       "</div>"
      ],
      "text/plain": [
       "    نوع العقار   المدينة         الحي       الواجهة عدد الغرف عدد الصالات  \\\n",
       "8         فيلا   الرياض     حي النخيل  شمالية غربية         6           3   \n",
       "24        فيلا   الرياض     حي الملقا  شمالية غربية        7+           3   \n",
       "30        فيلا   الرياض     حي الملقا  شمالية غربية         5           4   \n",
       "31        فيلا   الرياض     حي الملقا         غربية        7+           3   \n",
       "41        فيلا   الرياض     حي الملقا         شرقية        7+           4   \n",
       "63        فيلا   الرياض     حي النزهة    ثلاث شوارع        7+           4   \n",
       "122       فيلا   الرياض      حي الندى         غربية        7+           4   \n",
       "193       فيلا   الرياض     حي النرجس        شمالية         5           3   \n",
       "209       فيلا   الرياض   حي الياسمين  شمالية شرقية        7+           3   \n",
       "248       فيلا    الرياض    حي النخيل  جنوبية شرقية        7+           2   \n",
       "324       فيلا   الرياض      حي قرطبة         غربية        7+           4   \n",
       "349       فيلا   الرياض    حي الحمراء         غربية        7+           2   \n",
       "\n",
       "    عدد الحمامات  عرض الشارع  المساحة  درج صالة   مطبخ  غرفة خادمة  غرفة سائق  \\\n",
       "8             5+        -1.0   1200.0      True   True        True       True   \n",
       "24            5+        -1.0   1200.0      True   True        True       True   \n",
       "30            5+        -1.0    620.0      True   True        True       True   \n",
       "31            5+        -1.0    800.0      True   True        True       True   \n",
       "41            5+        -1.0   1750.0      True  False        True       True   \n",
       "63            5+        -1.0   2450.0      True   True        True       True   \n",
       "122           5+        -1.0   2500.0     False   True       False      False   \n",
       "193           5+        25.0    813.0      True   True        True       True   \n",
       "209           5+        15.0   1107.0      True   True        True       True   \n",
       "248           5+        30.0   1825.0      True   True        True       True   \n",
       "324           5+        -1.0   2500.0      True   True        True       True   \n",
       "349           5+        -1.0   2500.0      True   True        True       True   \n",
       "\n",
       "      ملحق    حوش   مسبح    قبو  مدخل سيارة   مصعد  السعر الاجمالي  \n",
       "8     True   True   True   True        True   True        17000000  \n",
       "24    True   True   True  False        True   True        18000000  \n",
       "30    True   True   True  False        True   True        10000000  \n",
       "31    True   True   True  False        True  False        10000000  \n",
       "41    True   True  False  False        True   True        22500000  \n",
       "63    True   True   True   True        True  False        18000000  \n",
       "122  False  False  False  False        True  False        16700000  \n",
       "193   True   True   True  False        True   True        14000000  \n",
       "209   True   True  False   True        True   True        10300000  \n",
       "248   True   True   True   True        True  False        20000000  \n",
       "324   True   True  False  False        True  False        16700000  \n",
       "349   True   True  False  False        True  False        16700000  "
      ]
     },
     "execution_count": 333,
     "metadata": {},
     "output_type": "execute_result"
    }
   ],
   "source": [
    "df_villas[df_villas[\"السعر الاجمالي\"] >= 10000000]"
   ]
  },
  {
   "cell_type": "code",
   "execution_count": 356,
   "id": "92be6b7a",
   "metadata": {
    "scrolled": true
   },
   "outputs": [
    {
     "name": "stderr",
     "output_type": "stream",
     "text": [
      "C:\\Users\\mmm19\\anaconda3\\lib\\site-packages\\dtale\\views.py:816: FutureWarning:\n",
      "\n",
      "['المدينة'] did not aggregate successfully. If any error is raised this will raise in a future version of pandas. Drop these columns/ops to avoid this warning.\n",
      "\n"
     ]
    },
    {
     "data": {
      "text/html": [
       "\n",
       "        <iframe\n",
       "            width=\"100%\"\n",
       "            height=\"475\"\n",
       "            src=\"http://DESKTOP-A60UPUK:40000/dtale/iframe/18\"\n",
       "            frameborder=\"0\"\n",
       "            allowfullscreen\n",
       "            \n",
       "        ></iframe>\n",
       "        "
      ],
      "text/plain": [
       "<IPython.lib.display.IFrame at 0x219f13d3af0>"
      ]
     },
     "metadata": {},
     "output_type": "display_data"
    },
    {
     "data": {
      "text/plain": []
     },
     "execution_count": 356,
     "metadata": {},
     "output_type": "execute_result"
    },
    {
     "name": "stderr",
     "output_type": "stream",
     "text": [
      "2024-10-25 21:32:50,015 - ERROR    - Exception occurred while processing request: object of type 'NoneType' has no len()\n",
      "Traceback (most recent call last):\n",
      "  File \"C:\\Users\\mmm19\\anaconda3\\lib\\site-packages\\dtale\\views.py\", line 120, in _handle_exceptions\n",
      "    return func(*args, **kwargs)\n",
      "  File \"C:\\Users\\mmm19\\anaconda3\\lib\\site-packages\\dtale\\views.py\", line 1587, in get_processes\n",
      "    [_load_process(data_id) for data_id in global_state.keys()],\n",
      "  File \"C:\\Users\\mmm19\\anaconda3\\lib\\site-packages\\dtale\\views.py\", line 1587, in <listcomp>\n",
      "    [_load_process(data_id) for data_id in global_state.keys()],\n",
      "  File \"C:\\Users\\mmm19\\anaconda3\\lib\\site-packages\\dtale\\views.py\", line 1572, in _load_process\n",
      "    rows=len(data),\n",
      "TypeError: object of type 'NoneType' has no len()\n",
      "2024-10-25 22:34:02,404 - INFO     - Executing shutdown due to inactivity...\n",
      "2024-10-25 22:34:06,465 - INFO     - Executing shutdown...\n",
      "C:\\Users\\mmm19\\anaconda3\\lib\\site-packages\\dtale\\app.py:451: UserWarning:\n",
      "\n",
      "The 'environ['werkzeug.server.shutdown']' function is deprecated and will be removed in Werkzeug 2.1.\n",
      "\n"
     ]
    }
   ],
   "source": [
    "dtale.show(df_land)"
   ]
  },
  {
   "cell_type": "code",
   "execution_count": 342,
   "id": "7dac50a7",
   "metadata": {},
   "outputs": [],
   "source": [
    "df_land = df_land[df_land[\"المساحة\"] <= 5000]"
   ]
  },
  {
   "cell_type": "code",
   "execution_count": 350,
   "id": "6d2d1236",
   "metadata": {},
   "outputs": [],
   "source": [
    "df_land = df_land[df_land[\"سعر المتر\"]<= 10000]"
   ]
  },
  {
   "cell_type": "code",
   "execution_count": 355,
   "id": "b9b4c30d",
   "metadata": {},
   "outputs": [],
   "source": [
    "df_land = df_land[df_land[\"السعر الإجمالي\"] <= 15000000]"
   ]
  },
  {
   "cell_type": "markdown",
   "id": "4aca9d42-add6-45db-92cf-1f6dae5f277b",
   "metadata": {},
   "source": [
    "**What is an Outlier?** \n",
    "Outlier is an row/observation that appears far away and diverges from an overall pattern in a sample.\n",
    "\n",
    "**What are the types of Outliers?**\n",
    "1. Univariate: These outliers can be found when we look at distribution of a single variable\n",
    "2. Multivariate: are outliers in an n-dimensional space. In order to find them, you have to look at distributions in multi-dimensions. example (hight=100, weight=100) for a person\n",
    "\n",
    "**What causes Outliers?**\n",
    "Whenever we come across outliers, the ideal way to tackle them is to find out the reason of having these outliers. The method to deal with them would then depend on the reason of their occurrence.\n",
    "\n",
    "Let’s understand various types of outliers:\n",
    "\n",
    "1. Data Entry Errors:- Human errors such as errors caused during data collection, recording, or entry can cause outliers in data.\n",
    "2. Measurement Error: It is the most common source of outliers. This is caused when the measurement instrument used turns out to be faulty.\n",
    "3. Data Processing Error: Whenever we perform data mining, we extract data from multiple sources. It is possible that some manipulation or extraction errors may lead to outliers in the dataset.\n",
    "4. Sampling error: For instance, we have to measure the height of athletes. By mistake, we include a few basketball players in the sample. This inclusion is likely to cause outliers in the dataset.\n",
    "5. Natural Outlier: When an outlier is not artificial (due to error), it is a natural outlier. For instance: In my last assignment with one of the renowned insurance company, I noticed that the performance of top 50 financial advisors was far higher than rest of the population. Surprisingly, it was not due to any error. Hence, whenever we perform any data mining activity with advisors, we used to treat this segment separately.\n",
    "\n",
    "\n",
    "**What is the impact of Outliers on a dataset?**\n",
    "\n",
    "\n",
    "![image.png](https://www.analyticsvidhya.com/wp-content/uploads/2015/02/Outlier_31.png)\n",
    "\n",
    "\n",
    "\n",
    "**How to detect Outliers?**\n",
    "\n",
    "1. Most commonly used method to detect outliers is visualization (Univariate Graphical Analysis).\n",
    "\n",
    "We use 3 common visualization methods:\n",
    ">- Box-plot: A box plot is a method for graphically depicting groups of numerical data through their quartiles. The box extends from the Q1 to Q3 quartile values of the data, with a line at the median (Q2). The whiskers extend from the edges of the box to show the range of the data. Outlier points are those past the end of the whiskers. Box plots show robust measures of location and spread as well as providing information about symmetry and outliers.\n",
    ">\n",
    ">  \n",
    ">![image.png](https://miro.medium.com/v2/resize:fit:698/format:webp/1*VK5iHA2AB28HSZwWwUbNYg.png)\n",
    ">\n",
    ">\n",
    ">- Histogram\n",
    ">- Scatter Plot: A scatter plot is a mathematical diagram using Cartesian coordinates to display values for two variables for a set of data. The data are displayed as a collection of points, each having the value of one variable determining the position on the horizontal axis and the value of the other variable determining the position on the vertical axis. The points that are far from the population can be termed as an outlier.\n",
    ">\n",
    ">  \n",
    ">![image.png](https://miro.medium.com/v2/resize:fit:4800/format:webp/1*Ov6aH-8yIwNoUxtMFwgx4g.png)\n",
    ">\n",
    ">\n",
    "\n",
    "2. Using statistical method (Univariate Non-Graphical analysis):\n",
    ">- Any value, which is beyond the range of -1.5 x IQR to 1.5 x IQR\n",
    " \n",
    "![image.png](https://www.whatissixsigma.net/wp-content/uploads/2015/07/Box-Plot-Diagram-to-identify-Outliers-figure-1.png)\n",
    "\n",
    ">- Use capping methods. Any value which out of range of 5th and 95th percentile can be considered as outlier\n",
    ">- Data points, three or more standard deviation away from mean are considered outlier: The Z-score is the signed number of standard deviations by which the value of an observation or data point is above the mean value of what is being observed or measured. While calculating the Z-score we re-scale and center the data and look for data points that are too far from zero. These data points which are way too far from zero will be treated as the outliers. In most of the cases, a threshold of 3 or -3 is used i.e if the Z-score value is greater than or less than 3 or -3 respectively, that data point will be identified as outliers.\n",
    "> - Outlier detection is merely a special case of the examination of data for influential data points and it also depends on the business understanding\n"
   ]
  },
  {
   "cell_type": "code",
   "execution_count": 23,
   "id": "74ea6194-cc01-45d8-be38-c4543eb1714e",
   "metadata": {},
   "outputs": [],
   "source": [
    "# go to univariate graphical analysis\n",
    "# go to lesson : data visualisation 1 - chart type section\n",
    "# then go to univariate graphical analysis\n",
    "# detect outliers using graphs varbaly"
   ]
  },
  {
   "cell_type": "code",
   "execution_count": 24,
   "id": "48ecf77b-480c-4f64-9485-95be805bc357",
   "metadata": {},
   "outputs": [],
   "source": [
    "# go to lesson: statistics 1 then statistics 3\n",
    "# then go to univariate Non graphical analysis\n",
    "# detect outliers using numerical statistics "
   ]
  },
  {
   "cell_type": "code",
   "execution_count": null,
   "id": "ee200da8-62b0-492d-b118-f4d665a1fb16",
   "metadata": {},
   "outputs": [],
   "source": []
  },
  {
   "cell_type": "code",
   "execution_count": 25,
   "id": "4e66d611-6958-4860-8522-9ada7fce40b0",
   "metadata": {},
   "outputs": [],
   "source": [
    "# go to delete ouliers"
   ]
  },
  {
   "cell_type": "markdown",
   "id": "4e886ec7-388c-414b-ada7-803c2fb1f2cb",
   "metadata": {},
   "source": [
    "## 2. Data Cleaning: \n",
    "\n",
    "Preliminary findings from data profiling can lead to cleaning the data by:\n",
    "- Handling missing values\n",
    "- Correcting errors.\n",
    "- Dealing with outliers.\n",
    "\n",
    "-------------------\n",
    "\n"
   ]
  },
  {
   "cell_type": "markdown",
   "id": "21876b48-f5ec-4970-85a9-0520d45d8841",
   "metadata": {},
   "source": [
    "### Handling missing values:"
   ]
  },
  {
   "cell_type": "markdown",
   "id": "c890d5a2-2a65-4090-9427-f89c0f011d3f",
   "metadata": {},
   "source": [
    "**Why my data has missing values?**\n",
    "They may occur at two stages:\n",
    "1. Data Extraction: It is possible that there are problems with extraction process. Errors at data extraction stage are typically easy to find and can be corrected easily as well.\n",
    "2. Data collection: These errors occur at time of data collection and are harder to correct.\n",
    "\n",
    "**Why do we need to handle the missing data?**\n",
    "To avoid:\n",
    "- Bias the conclusions.\n",
    "- Leading the business to make wrong decisions.\n",
    "\n",
    "**Which are the methods to treat missing values ?**\n",
    "1. Deletion: we delete rows where any of the variable is missing. Simplicity is one of the major advantage of this method, but this method reduces the power of model because it reduces the sample size.\n",
    "\n",
    "2. Imputation: is a method to fill in the missing values with estimated ones. This imputation is one of the most frequently used methods.\n",
    "\n",
    "    2.1. Mean/ Mode/ Median Imputation: It consists of replacing the missing data for a given attribute by the mean or median (quantitative attribute) or mode (qualitative attribute) of all known values of that variable.\n",
    "    > It can be of two types:\n",
    "    > - Generalized Imputation: In this case, we calculate the mean or median for all non missing values of that variable then replace missing value with mean or median.\n",
    "    > - Similar case Imputation: In this case, we calculate average for each group individually of non missing values then replace the missing value based on the group.\n",
    "\n",
    "    2.2. Constant Value\n",
    "   \n",
    "    2.3. Forward Filling\n",
    "   \n",
    "    2.4. Backward Filling\n",
    "\n",
    "6. Prediction Model:  Prediction model is one of the sophisticated method for handling missing data. Here, we create a predictive model to estimate values that will substitute the missing data.  In this case, we divide our data set into two sets: One set with no missing values for the variable and another one with missing values. First data set become training data set of the model while second data set with missing values is test data set and variable with missing values is treated as target variable. Next, we create a model to predict target variable based on other attributes of the training data set and populate missing values of test data set.\n",
    "\n",
    "> There are 2 drawbacks for this approach:\n",
    "> - The model estimated values are usually more well-behaved than the true values\n",
    "> - If there are no relationships with attributes in the data set and the attribute with missing values, then the model will not be precise for estimating missing values.\n",
    "\n",
    "9. KNN Imputation: In this method of imputation, the missing values of an attribute are imputed using the given number of attributes that are most similar to the attribute whose values are missing. The similarity of two attributes is determined using a distance function. It is also known to have certain advantage & disadvantages.\n",
    "\n",
    "   > **Advantages:**\n",
    "   > - k-nearest neighbour can predict both qualitative & quantitative attributes\n",
    "   > - Creation of predictive model for each attribute with missing data is not required\n",
    "   > - Attributes with multiple missing values can be easily treated\n",
    "   > - Correlation structure of the data is taken into consideration\n",
    "\n",
    "   > **Disadvantage:**\n",
    "   > - KNN algorithm is very time-consuming in analyzing large database. It searches through all the dataset looking for the most similar instances.\n",
    "   > - Choice of k-value is very critical. Higher value of k would include attributes which are significantly different from what we need whereas lower value of k implies missing out of significant attributes.\n",
    "\n",
    "--------------------\n"
   ]
  },
  {
   "cell_type": "code",
   "execution_count": null,
   "id": "57e741fb-71c1-46ad-a526-d8f0b1564dc3",
   "metadata": {},
   "outputs": [],
   "source": []
  },
  {
   "cell_type": "code",
   "execution_count": 80,
   "id": "01287962-8077-4c01-8d1d-5f8aed6cb37a",
   "metadata": {},
   "outputs": [],
   "source": [
    "# go back to 6th dimention --> Completeness"
   ]
  },
  {
   "cell_type": "markdown",
   "id": "f7cee10f-0af8-44e5-b595-8e965294daad",
   "metadata": {},
   "source": [
    "### Correcting errors\n",
    "\n",
    "-------------------"
   ]
  },
  {
   "cell_type": "code",
   "execution_count": 362,
   "id": "f6800555",
   "metadata": {},
   "outputs": [
    {
     "data": {
      "text/plain": [
       "array(['الرياض'], dtype=object)"
      ]
     },
     "execution_count": 362,
     "metadata": {},
     "output_type": "execute_result"
    }
   ],
   "source": [
    "df_apart[\"المدينة\"].unique()"
   ]
  },
  {
   "cell_type": "code",
   "execution_count": 360,
   "id": "06273b88-a169-42e8-81f5-5d71cb3f9c21",
   "metadata": {},
   "outputs": [
    {
     "name": "stderr",
     "output_type": "stream",
     "text": [
      "C:\\Users\\mmm19\\AppData\\Local\\Temp\\ipykernel_17504\\108794073.py:1: SettingWithCopyWarning:\n",
      "\n",
      "\n",
      "A value is trying to be set on a copy of a slice from a DataFrame.\n",
      "Try using .loc[row_indexer,col_indexer] = value instead\n",
      "\n",
      "See the caveats in the documentation: https://pandas.pydata.org/pandas-docs/stable/user_guide/indexing.html#returning-a-view-versus-a-copy\n",
      "\n"
     ]
    }
   ],
   "source": [
    "df_apart[\"المدينة\"] = \"الرياض\""
   ]
  },
  {
   "cell_type": "code",
   "execution_count": 363,
   "id": "5cf6ce5d",
   "metadata": {},
   "outputs": [
    {
     "data": {
      "text/plain": [
       "array([' الرياض ', ' امارة منطقة الرياض', ' الدرعية', ' حريملاء',\n",
       "       ' الرياض', ' حي النخيل ', ' حي قرطبة ', ' حي العريجاء الغربية ',\n",
       "       ' حي الازدهار '], dtype=object)"
      ]
     },
     "execution_count": 363,
     "metadata": {},
     "output_type": "execute_result"
    }
   ],
   "source": [
    "df_villas[\"المدينة\"].unique()"
   ]
  },
  {
   "cell_type": "code",
   "execution_count": 364,
   "id": "17a0d880",
   "metadata": {},
   "outputs": [],
   "source": [
    "df_villas[\"المدينة\"] = \"الرياض\""
   ]
  },
  {
   "cell_type": "code",
   "execution_count": 365,
   "id": "14317743",
   "metadata": {},
   "outputs": [
    {
     "data": {
      "text/plain": [
       "array([' امارة منطقة الرياض', ' الرياض ', ' حي الرمال ', 13843,\n",
       "       ' الدرعية', ' حريملاء', ' العيينة ', ' حي عريض ', ' الرياض',\n",
       "       ' حي قرطبة ', ' الجبيلة ', ' حي القيروان ', ' ', ' حي المهدية ',\n",
       "       ' ضرما', ' رماح', ' حي ظهرة لبن ', ' حي العارض ', ' الخرج'],\n",
       "      dtype=object)"
      ]
     },
     "execution_count": 365,
     "metadata": {},
     "output_type": "execute_result"
    }
   ],
   "source": [
    "df_land[\"المدينة\"].unique()"
   ]
  },
  {
   "cell_type": "code",
   "execution_count": 367,
   "id": "822d33fe",
   "metadata": {},
   "outputs": [
    {
     "name": "stderr",
     "output_type": "stream",
     "text": [
      "C:\\Users\\mmm19\\AppData\\Local\\Temp\\ipykernel_17504\\239107479.py:1: SettingWithCopyWarning:\n",
      "\n",
      "\n",
      "A value is trying to be set on a copy of a slice from a DataFrame\n",
      "\n",
      "See the caveats in the documentation: https://pandas.pydata.org/pandas-docs/stable/user_guide/indexing.html#returning-a-view-versus-a-copy\n",
      "\n"
     ]
    }
   ],
   "source": [
    "df_land[\"المدينة\"].replace(13843, \"حي النخبة\", inplace=True)"
   ]
  },
  {
   "cell_type": "code",
   "execution_count": 368,
   "id": "e6cd03c9",
   "metadata": {},
   "outputs": [
    {
     "data": {
      "text/plain": [
       "array([' امارة منطقة الرياض', ' الرياض ', ' حي الرمال ', 'حي النخبة',\n",
       "       ' الدرعية', ' حريملاء', ' العيينة ', ' حي عريض ', ' الرياض',\n",
       "       ' حي قرطبة ', ' الجبيلة ', ' حي القيروان ', ' ', ' حي المهدية ',\n",
       "       ' ضرما', ' رماح', ' حي ظهرة لبن ', ' حي العارض ', ' الخرج'],\n",
       "      dtype=object)"
      ]
     },
     "execution_count": 368,
     "metadata": {},
     "output_type": "execute_result"
    }
   ],
   "source": [
    "df_land[\"المدينة\"].unique()"
   ]
  },
  {
   "cell_type": "code",
   "execution_count": 370,
   "id": "506a770c",
   "metadata": {},
   "outputs": [
    {
     "name": "stderr",
     "output_type": "stream",
     "text": [
      "C:\\Users\\mmm19\\AppData\\Local\\Temp\\ipykernel_17504\\3499851761.py:1: SettingWithCopyWarning:\n",
      "\n",
      "\n",
      "A value is trying to be set on a copy of a slice from a DataFrame.\n",
      "Try using .loc[row_indexer,col_indexer] = value instead\n",
      "\n",
      "See the caveats in the documentation: https://pandas.pydata.org/pandas-docs/stable/user_guide/indexing.html#returning-a-view-versus-a-copy\n",
      "\n"
     ]
    }
   ],
   "source": [
    "df_land[\"المدينة\"] =df_land[\"المدينة\"].apply(lambda x: x.strip())"
   ]
  },
  {
   "cell_type": "code",
   "execution_count": 374,
   "id": "0b95377d",
   "metadata": {},
   "outputs": [],
   "source": [
    "df_land = df_land[~(df_land[\"المدينة\"] == \"الخرج\")]"
   ]
  },
  {
   "cell_type": "code",
   "execution_count": 376,
   "id": "492109ef",
   "metadata": {},
   "outputs": [
    {
     "name": "stderr",
     "output_type": "stream",
     "text": [
      "C:\\Users\\mmm19\\AppData\\Local\\Temp\\ipykernel_17504\\1487926058.py:1: SettingWithCopyWarning:\n",
      "\n",
      "\n",
      "A value is trying to be set on a copy of a slice from a DataFrame.\n",
      "Try using .loc[row_indexer,col_indexer] = value instead\n",
      "\n",
      "See the caveats in the documentation: https://pandas.pydata.org/pandas-docs/stable/user_guide/indexing.html#returning-a-view-versus-a-copy\n",
      "\n"
     ]
    }
   ],
   "source": [
    "df_land[\"المدينة\"] = \"الرياض\""
   ]
  },
  {
   "cell_type": "code",
   "execution_count": null,
   "id": "f1d95da5-a3ba-473a-8243-aa177cadae20",
   "metadata": {},
   "outputs": [],
   "source": [
    "# go back to 7th dimension Accuracy "
   ]
  },
  {
   "cell_type": "markdown",
   "id": "5ecc7dbb-6867-44cf-8f99-1b969a80be40",
   "metadata": {},
   "source": [
    "### Dealing with outliers:"
   ]
  },
  {
   "cell_type": "markdown",
   "id": "88347887-4bdf-48af-9486-cb8fe80c97af",
   "metadata": {},
   "source": [
    "**How to remove Outliers?**\n",
    "Most of the ways to deal with outliers are similar to the methods of missing values like deleting rows, transforming them, binning them, treat them as a separate group, imputing values and other statistical methods. Here, we will discuss the common techniques used to deal with outliers:\n",
    "\n",
    "1. Deleting rows: We delete outlier values if it is due to data entry error, data processing error or outlier rows are very small in numbers. We can also use trimming at both ends to remove outliers.\n",
    "\n",
    "2. Imputing: Like imputation of missing values, we can also impute outliers. We can use mean, median, mode imputation methods. Before imputing values, we should analyse if it is natural outlier or artificial. If it is artificial, we can go with imputing values. We can also use statistical model to predict values of outlier rows and after that we can impute it with predicted values.\n",
    "\n",
    "3. Treat separately: If there are significant number of outliers, we should treat them separately in the statistical model. One of the approach is to treat both groups as two different groups and build individual model for both groups and then combine the output.\n"
   ]
  },
  {
   "cell_type": "code",
   "execution_count": null,
   "id": "25a585f0-2b9c-42fa-bf21-cacc6aa3be3f",
   "metadata": {},
   "outputs": [],
   "source": []
  },
  {
   "cell_type": "markdown",
   "id": "98548b66-e309-4eb8-a5dc-65fe0abbf1e8",
   "metadata": {},
   "source": [
    "## 3. Univariate Analysis: \n",
    "\n",
    "This involves examining single variables to understand their characteristics (distribution, central tendency, dispersion, and shape).\n",
    "\n",
    "We calculate **numerical values** about the data that tells us about the distribution of the data. We also **draw graphs** showing visually how the data is distributed. **To answer the following questions about Features/characteristics of Data:**\n",
    "- Where is the center of the data? (location)\n",
    "- How much does the data vary? (scale)\n",
    "- What is the shape of the data? (shape)\n",
    "\n",
    "**The benefits of this analysis:**\n",
    "Statistics summary gives a high-level idea to identify whether the data has any outliers, data entry error, distribution of data such as the data is normally distributed or left/right skewed\n",
    "\n",
    "**In this step, we will explore variables one by one using following approaches:**"
   ]
  },
  {
   "cell_type": "markdown",
   "id": "d6718111-7ac2-4fff-9851-654655b62e0b",
   "metadata": {},
   "source": [
    "### 1. Univariate Graphical Analysis:\n",
    "Method to perform uni-variate analysis will depend on whether the variable type is categorical or numerical."
   ]
  },
  {
   "cell_type": "code",
   "execution_count": 383,
   "id": "db79d803-b75c-4686-a623-e8420321a90f",
   "metadata": {},
   "outputs": [
    {
     "data": {
      "text/plain": [
       "نوع العقار         object\n",
       "الغرض              object\n",
       "المدينة            object\n",
       "الحي               object\n",
       "الواجهة            object\n",
       "المساحة             int64\n",
       "سعر المتر         float64\n",
       "السعر الإجمالي      int64\n",
       "dtype: object"
      ]
     },
     "execution_count": 383,
     "metadata": {},
     "output_type": "execute_result"
    }
   ],
   "source": [
    "df_land.dtypes"
   ]
  },
  {
   "cell_type": "code",
   "execution_count": 404,
   "id": "a2be9da0",
   "metadata": {},
   "outputs": [
    {
     "data": {
      "text/html": [
       "<div>\n",
       "<style scoped>\n",
       "    .dataframe tbody tr th:only-of-type {\n",
       "        vertical-align: middle;\n",
       "    }\n",
       "\n",
       "    .dataframe tbody tr th {\n",
       "        vertical-align: top;\n",
       "    }\n",
       "\n",
       "    .dataframe thead th {\n",
       "        text-align: right;\n",
       "    }\n",
       "</style>\n",
       "<table border=\"1\" class=\"dataframe\">\n",
       "  <thead>\n",
       "    <tr style=\"text-align: right;\">\n",
       "      <th></th>\n",
       "      <th>الحي</th>\n",
       "    </tr>\n",
       "  </thead>\n",
       "  <tbody>\n",
       "    <tr>\n",
       "      <th>حي المهدية</th>\n",
       "      <td>112</td>\n",
       "    </tr>\n",
       "    <tr>\n",
       "      <th>حي النرجس</th>\n",
       "      <td>107</td>\n",
       "    </tr>\n",
       "    <tr>\n",
       "      <th>حي ظهرة لبن</th>\n",
       "      <td>84</td>\n",
       "    </tr>\n",
       "    <tr>\n",
       "      <th>حي الرمال</th>\n",
       "      <td>61</td>\n",
       "    </tr>\n",
       "    <tr>\n",
       "      <th>حي عريض</th>\n",
       "      <td>44</td>\n",
       "    </tr>\n",
       "    <tr>\n",
       "      <th>حي الخير</th>\n",
       "      <td>38</td>\n",
       "    </tr>\n",
       "    <tr>\n",
       "      <th>حي العارض</th>\n",
       "      <td>36</td>\n",
       "    </tr>\n",
       "    <tr>\n",
       "      <th>حي اليرموك</th>\n",
       "      <td>34</td>\n",
       "    </tr>\n",
       "    <tr>\n",
       "      <th>حي القادسية</th>\n",
       "      <td>31</td>\n",
       "    </tr>\n",
       "    <tr>\n",
       "      <th>العيينة</th>\n",
       "      <td>25</td>\n",
       "    </tr>\n",
       "  </tbody>\n",
       "</table>\n",
       "</div>"
      ],
      "text/plain": [
       "               الحي\n",
       " حي المهدية     112\n",
       " حي النرجس      107\n",
       " حي ظهرة لبن     84\n",
       " حي الرمال       61\n",
       " حي عريض         44\n",
       " حي الخير        38\n",
       " حي العارض       36\n",
       " حي اليرموك      34\n",
       " حي القادسية     31\n",
       " العيينة         25"
      ]
     },
     "execution_count": 404,
     "metadata": {},
     "output_type": "execute_result"
    }
   ],
   "source": [
    "top_10_neighborhoods = df_land[\"الحي\"].value_counts().head(11)[1:11].index\n",
    "filtered_df = df_land[df_land[\"الحي\"].isin(top_10_neighborhoods)]"
   ]
  },
  {
   "cell_type": "code",
   "execution_count": 378,
   "id": "31a27679",
   "metadata": {},
   "outputs": [
    {
     "data": {
      "text/plain": [
       "Index(['نوع العقار', 'المدينة', 'الحي', 'الواجهة', 'عدد الغرف', 'عدد الصالات',\n",
       "       'عدد الحمامات', 'عرض الشارع', 'المساحة', 'درج صالة', 'مطبخ',\n",
       "       'غرفة خادمة', 'غرفة سائق', 'ملحق', 'حوش', 'مسبح', 'قبو', 'مدخل سيارة',\n",
       "       'مصعد', 'السعر الاجمالي'],\n",
       "      dtype='object')"
      ]
     },
     "execution_count": 378,
     "metadata": {},
     "output_type": "execute_result"
    }
   ],
   "source": [
    "df_villas.columns"
   ]
  },
  {
   "cell_type": "code",
   "execution_count": 380,
   "id": "6e09bb8d",
   "metadata": {},
   "outputs": [
    {
     "data": {
      "text/plain": [
       "Index(['نوع العقار', 'المدينة', 'الحي', 'الواجهة', 'عدد الغرف', 'عدد الصالات',\n",
       "       'عدد الحمامات', 'المساحة', 'مطبخ', 'مدخل سيارة', 'مصعد', 'الدور',\n",
       "       'عمر العقار', 'مؤثثة', 'السعر الاجمالي'],\n",
       "      dtype='object')"
      ]
     },
     "execution_count": 380,
     "metadata": {},
     "output_type": "execute_result"
    }
   ],
   "source": [
    "df_apart.columns"
   ]
  },
  {
   "cell_type": "code",
   "execution_count": 405,
   "id": "10cd4244",
   "metadata": {},
   "outputs": [
    {
     "data": {
      "text/plain": [
       "Index(['نوع العقار', 'الغرض', 'المدينة', 'الحي', 'الواجهة', 'المساحة',\n",
       "       'سعر المتر', 'السعر الإجمالي'],\n",
       "      dtype='object')"
      ]
     },
     "execution_count": 405,
     "metadata": {},
     "output_type": "execute_result"
    }
   ],
   "source": [
    "df_land.columns"
   ]
  },
  {
   "cell_type": "markdown",
   "id": "0d57c4b9-9bb3-494d-85dd-b8d39afda139",
   "metadata": {},
   "source": [
    "#### I. Categorical Variables:\n",
    "\n",
    "we’ll use frequency table to understand distribution of each category\n",
    "- Bar Chart (Ordinal) - Orderd\n",
    "- Pie Chart (Nominal) - non Orderd"
   ]
  },
  {
   "cell_type": "code",
   "execution_count": 407,
   "id": "72ece4b7-5508-403a-8fb0-f519fc74272a",
   "metadata": {},
   "outputs": [],
   "source": [
    "df_villas.to_csv(r\"C:\\Users\\mmm19\\Desktop\\Bootcamp\\data\\Aqqar_villas.csv\")\n",
    "df_apart.to_csv(r\"C:\\Users\\mmm19\\Desktop\\Bootcamp\\data\\Aqqar_apart.csv\")\n",
    "df_land.to_csv(r\"C:\\Users\\mmm19\\Desktop\\Bootcamp\\data\\Aqqar_lands.csv\")"
   ]
  },
  {
   "cell_type": "markdown",
   "id": "d2641f0d-80f2-493b-99b7-15476379a1e2",
   "metadata": {},
   "source": [
    "#### II. Numerical Variables:\n",
    "\n",
    "we need to understand the central tendency and spread of the variable (Descriptive Analysis) using:\n",
    "   - Box plot\n",
    "   - Histogram"
   ]
  },
  {
   "cell_type": "code",
   "execution_count": 408,
   "id": "5be16f08-a072-4a02-a3ee-6f9d57786fb4",
   "metadata": {
    "scrolled": true
   },
   "outputs": [
    {
     "name": "stderr",
     "output_type": "stream",
     "text": [
      "C:\\Users\\mmm19\\anaconda3\\lib\\site-packages\\dtale\\views.py:816: FutureWarning:\n",
      "\n",
      "['عدد الغرف', 'عدد الصالات', 'عدد الحمامات'] did not aggregate successfully. If any error is raised this will raise in a future version of pandas. Drop these columns/ops to avoid this warning.\n",
      "\n"
     ]
    },
    {
     "data": {
      "text/html": [
       "\n",
       "        <iframe\n",
       "            width=\"100%\"\n",
       "            height=\"475\"\n",
       "            src=\"http://DESKTOP-A60UPUK:40000/dtale/iframe/1\"\n",
       "            frameborder=\"0\"\n",
       "            allowfullscreen\n",
       "            \n",
       "        ></iframe>\n",
       "        "
      ],
      "text/plain": [
       "<IPython.lib.display.IFrame at 0x219f07be820>"
      ]
     },
     "metadata": {},
     "output_type": "display_data"
    },
    {
     "data": {
      "text/plain": []
     },
     "execution_count": 408,
     "metadata": {},
     "output_type": "execute_result"
    }
   ],
   "source": [
    "dtale.show(df_villas)"
   ]
  },
  {
   "cell_type": "code",
   "execution_count": 409,
   "id": "6bcc21b5",
   "metadata": {},
   "outputs": [
    {
     "data": {
      "text/html": [
       "\n",
       "        <iframe\n",
       "            width=\"100%\"\n",
       "            height=\"475\"\n",
       "            src=\"http://DESKTOP-A60UPUK:40000/dtale/iframe/2\"\n",
       "            frameborder=\"0\"\n",
       "            allowfullscreen\n",
       "            \n",
       "        ></iframe>\n",
       "        "
      ],
      "text/plain": [
       "<IPython.lib.display.IFrame at 0x219f07d8130>"
      ]
     },
     "metadata": {},
     "output_type": "display_data"
    },
    {
     "data": {
      "text/plain": []
     },
     "execution_count": 409,
     "metadata": {},
     "output_type": "execute_result"
    }
   ],
   "source": [
    "dtale.show(df_land)"
   ]
  },
  {
   "cell_type": "markdown",
   "id": "d66677d3-44ad-414f-9b39-f9c1995ad043",
   "metadata": {},
   "source": [
    "### 2. Univariate Non-Graphical analysis: \n",
    "\n",
    "- Where is the center of the data? (location) --> **Measures of central tendency**\n",
    "- How much does the data vary? (scale) --> **Measure of variability**\n",
    "- What is the shape of the data? (shape) --> **Measures of variation combined with an average (measure of center) gives a good picture of the distribution of the data.**"
   ]
  },
  {
   "cell_type": "code",
   "execution_count": null,
   "id": "f1058d84-e61e-4f5b-b66a-29931e77821b",
   "metadata": {},
   "outputs": [],
   "source": []
  },
  {
   "cell_type": "markdown",
   "id": "f09bb809-0edd-432b-bf23-abd0840b3e16",
   "metadata": {},
   "source": [
    "## 4. Bivariate/Multivariate Analysis:\n",
    "\n",
    "Here, you look at the relationships between two or more variables. This can involve looking for correlations, patterns, and trends that suggest a relationship or an association.\n",
    "\n",
    "We can perform bi-variate analysis for any combination of categorical and numerical variables. The combination can be:\n",
    "| bi-variate variables   | Plot type |\n",
    "| ------------- | ------------- |\n",
    "| Categorical & Categorical| Stacked Bar Chart |\n",
    "| Categorical & numerical  | scatter plot, histogram, box plot|\n",
    "| numerical  & numerical  | Scatter plot, line chart| \n",
    "\n",
    "\n",
    "Multivariate Analysis:\n",
    "- Heat map\n",
    "- Bar Chart\n",
    "- Scatter Chart\n",
    "- Line Chart"
   ]
  },
  {
   "cell_type": "markdown",
   "id": "838f2864-ce9e-4f15-99c8-052d053154a7",
   "metadata": {},
   "source": [
    "**Categorical & Categorical --> (Stacked Column Chart)**"
   ]
  },
  {
   "cell_type": "code",
   "execution_count": null,
   "id": "73f9f2ac-8477-49ea-9c68-4fe44d4395b6",
   "metadata": {},
   "outputs": [],
   "source": []
  },
  {
   "cell_type": "markdown",
   "id": "730e088f-fe13-40da-8fbb-686f5135fa4d",
   "metadata": {},
   "source": [
    "**Categorical & numerical --> (scatter plot, histogram, box plot)**"
   ]
  },
  {
   "cell_type": "code",
   "execution_count": null,
   "id": "3590e345-2051-4215-91ac-07d196b510ef",
   "metadata": {},
   "outputs": [],
   "source": []
  },
  {
   "cell_type": "markdown",
   "id": "20aed48d-b78e-46da-963f-e7f15e2f4dc7",
   "metadata": {},
   "source": [
    "**numerical & numerical --> (Scatter plot, line chart)**"
   ]
  },
  {
   "cell_type": "code",
   "execution_count": null,
   "id": "41023177-01cb-4f39-a750-12be71b13bda",
   "metadata": {},
   "outputs": [],
   "source": []
  },
  {
   "cell_type": "markdown",
   "id": "efb43b30-b1f0-48a4-a19c-195810cc8a0f",
   "metadata": {},
   "source": [
    "We could also use a correlation matrix to get more specific information about the relationship between these two variables."
   ]
  },
  {
   "cell_type": "code",
   "execution_count": null,
   "id": "8406f58f-b825-4a15-8f6e-c68ca66bd483",
   "metadata": {},
   "outputs": [],
   "source": []
  }
 ],
 "metadata": {
  "kernelspec": {
   "display_name": "Python 3 (ipykernel)",
   "language": "python",
   "name": "python3"
  },
  "language_info": {
   "codemirror_mode": {
    "name": "ipython",
    "version": 3
   },
   "file_extension": ".py",
   "mimetype": "text/x-python",
   "name": "python",
   "nbconvert_exporter": "python",
   "pygments_lexer": "ipython3",
   "version": "3.9.13"
  }
 },
 "nbformat": 4,
 "nbformat_minor": 5
}
